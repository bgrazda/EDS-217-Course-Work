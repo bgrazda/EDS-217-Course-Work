{
 "cells": [
  {
   "cell_type": "code",
   "execution_count": null,
   "id": "609995c4-32e4-439d-990f-b1234929da8d",
   "metadata": {
    "tags": []
   },
   "outputs": [],
   "source": [
    "import pandas as pd\n",
    "import numpy as np\n",
    "from numpy.random import randint"
   ]
  },
  {
   "cell_type": "code",
   "execution_count": null,
   "id": "0776eda6-8dc1-4129-b145-32f8c5a797c5",
   "metadata": {
    "tags": []
   },
   "outputs": [],
   "source": [
    "rng = np.random.default_rng()"
   ]
  },
  {
   "cell_type": "code",
   "execution_count": null,
   "id": "b1a14e3c-8c54-464a-a867-89167bac0690",
   "metadata": {
    "tags": []
   },
   "outputs": [],
   "source": [
    "rng_seeded = np.random.default_rng(seed=42)"
   ]
  },
  {
   "cell_type": "code",
   "execution_count": null,
   "id": "8e59782f-117c-4674-88ec-e5a9d501c9d7",
   "metadata": {
    "tags": []
   },
   "outputs": [],
   "source": [
    "months = ['Sep', 'Oct', 'Nov', 'Dec', 'Jan', 'Feb', 'Mar', 'Apr', 'May', 'Jun']"
   ]
  },
  {
   "cell_type": "code",
   "execution_count": null,
   "id": "b51874ae-b83e-48fb-811e-88da56f8792f",
   "metadata": {
    "tags": []
   },
   "outputs": [],
   "source": [
    "score = rng_seeded.integers(70, 101, size = 10)\n",
    "scores = pd.Series(score, index = months)"
   ]
  },
  {
   "cell_type": "code",
   "execution_count": null,
   "id": "bcc405a7-520d-4104-bf54-585df170e89f",
   "metadata": {
    "tags": []
   },
   "outputs": [],
   "source": [
    "print(scores)"
   ]
  },
  {
   "cell_type": "code",
   "execution_count": null,
   "id": "dd30cd75-c9d7-4b1f-9b49-e5a22cca1373",
   "metadata": {
    "tags": []
   },
   "outputs": [],
   "source": [
    "#Analyzing the Test Scores\n",
    "#1.What is the student’s average test score for the entire year?\n",
    "print(scores.mean())\n",
    "\n",
    "#2. What is the student’s average test score during the first half of the year?\n",
    "print(scores[0:5].mean())\n",
    "first_half = scores[0:5].mean()\n",
    "#3. What is the student’s average test score during the second half of the year?\n",
    "print(scores[6:11].mean())\n",
    "sec_half = scores[6:11].mean()\n",
    "#4. Did the student improve their performance in the second half? If so, by how much?\n",
    "diff = sec_half - first_half\n",
    "if(first_half > sec_half):\n",
    "    print(f\"No, the students did not improve. They actually did worse at {diff:.2f} percent.\")\n",
    "elif(sec_half > first_half): \n",
    "    print(f\"Yes! They improved by {diff}\")\n",
    "else:\n",
    "    print(\"They stayed the same!\")\n",
    "    "
   ]
  },
  {
   "cell_type": "code",
   "execution_count": null,
   "id": "8b00b1d4-ab57-41ed-b8ff-9f512d4c97d5",
   "metadata": {
    "tags": []
   },
   "outputs": [],
   "source": [
    "rng1 = np.random.default_rng(seed=42)\n",
    "rng2 = np.random.default_rng(seed=42)\n",
    "\n",
    "series1 = pd.Series(rng1.integers(70, 101, size=10), index=months)\n",
    "series2 = pd.Series(rng2.integers(70, 101, size=10), index=months)\n",
    "\n",
    "print(series1.equals(series2))  # This should return True"
   ]
  },
  {
   "cell_type": "code",
   "execution_count": null,
   "id": "f2a87108-fd54-4dc2-93ec-15c6c6c1cdee",
   "metadata": {
    "tags": []
   },
   "outputs": [],
   "source": [
    "rng3 = np.random.default_rng(seed=42)\n",
    "rng4 = np.random.default_rng(seed=123)\n",
    "\n",
    "series3 = pd.Series(rng3.integers(70, 101, size=10), index=months)\n",
    "series4 = pd.Series(rng4.integers(70, 101, size=10), index=months)\n",
    "\n",
    "print(series3.equals(series4))  # This should return False"
   ]
  }
 ],
 "metadata": {
  "kernelspec": {
   "display_name": "Python 3.10.0",
   "language": "python",
   "name": "python3.10.0"
  },
  "language_info": {
   "codemirror_mode": {
    "name": "ipython",
    "version": 3
   },
   "file_extension": ".py",
   "mimetype": "text/x-python",
   "name": "python",
   "nbconvert_exporter": "python",
   "pygments_lexer": "ipython3",
   "version": "3.10.0"
  }
 },
 "nbformat": 4,
 "nbformat_minor": 5
}
