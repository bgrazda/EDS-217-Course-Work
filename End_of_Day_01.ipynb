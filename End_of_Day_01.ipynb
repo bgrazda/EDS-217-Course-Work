{
 "cells": [
  {
   "cell_type": "markdown",
   "id": "63bcdf36-6894-46e1-907a-830833232ff4",
   "metadata": {},
   "source": [
    "# Example Python Data Science Workflow\n",
    "\n",
    "Steps:\n",
    "\n",
    "1. Import\n",
    "2. Clean\n",
    "3. Filter\n",
    "4. Sort\n",
    "5. Transform\n",
    "6. Group\n",
    "7. Aggregate\n",
    "8. Plot/Visualize\n",
    "\n",
    "## 0. Get Ready"
   ]
  },
  {
   "cell_type": "code",
   "execution_count": null,
   "id": "1682efbc-070f-4136-b51d-1a02b2e71e73",
   "metadata": {
    "tags": []
   },
   "outputs": [],
   "source": [
    "import pandas as pd\n",
    "import matplotlib.pyplot as plt"
   ]
  },
  {
   "cell_type": "markdown",
   "id": "a8b179a7-38dc-467d-9b5f-cbc19b46773e",
   "metadata": {},
   "source": [
    "## 1. Import"
   ]
  },
  {
   "cell_type": "code",
   "execution_count": null,
   "id": "80d46ee3-f843-4c15-bd43-4552baf15c1e",
   "metadata": {
    "tags": []
   },
   "outputs": [],
   "source": [
    "#make a url variable \n",
    "url = \"https://raw.githubusercontent.com/environmental-data-science/eds217-day0-comp/main/data/raw_data/toolik_weather.csv\""
   ]
  },
  {
   "cell_type": "code",
   "execution_count": null,
   "id": "5f5ac36a-e58c-40eb-aa75-4708a69bb5b4",
   "metadata": {
    "tags": []
   },
   "outputs": [],
   "source": [
    "#import the url to a dataframe using pd.read_csv\n",
    "\n",
    "df = pd.read_csv(url)"
   ]
  },
  {
   "cell_type": "code",
   "execution_count": null,
   "id": "dbe877b4-6644-4aaf-8eb1-08f98b12309c",
   "metadata": {
    "tags": []
   },
   "outputs": [],
   "source": [
    "df.head()"
   ]
  },
  {
   "cell_type": "code",
   "execution_count": null,
   "id": "0f4028e2-6b76-4ffa-9843-fe1e4b77845b",
   "metadata": {
    "tags": []
   },
   "outputs": [],
   "source": [
    "#count the number of missing null values in each column\n",
    "df.isnull().sum()"
   ]
  },
  {
   "cell_type": "code",
   "execution_count": null,
   "id": "eb87d5d7-1b9d-4ced-95a4-95696b1fb9ed",
   "metadata": {
    "tags": []
   },
   "outputs": [],
   "source": [
    "df.describe()"
   ]
  },
  {
   "cell_type": "markdown",
   "id": "d406117a-09c8-45d3-b97a-210fb9e44d8a",
   "metadata": {
    "tags": []
   },
   "source": [
    "### Steps 2-5 (Intentionally left blank)\n",
    "\n",
    "### Step 6: Group by month"
   ]
  },
  {
   "cell_type": "code",
   "execution_count": null,
   "id": "166ed79d-8d8b-4d77-a5b1-dd281429158a",
   "metadata": {
    "tags": []
   },
   "outputs": [],
   "source": [
    "monthly = df.groupby('Month')\n"
   ]
  },
  {
   "cell_type": "markdown",
   "id": "5ae120f5-c09a-43e0-896a-107dc9cb404f",
   "metadata": {},
   "source": [
    "### Step 7: Aggregate( get monthly averages)"
   ]
  },
  {
   "cell_type": "code",
   "execution_count": null,
   "id": "b170830b-20b6-4fd0-a505-b53229119ef4",
   "metadata": {
    "tags": []
   },
   "outputs": [],
   "source": [
    "monthly_means = monthly['Daily_AirTemp_Mean_C'].mean()\n",
    "print(monthly_means)"
   ]
  },
  {
   "cell_type": "markdown",
   "id": "f3f2a89d-cca8-404a-b05b-2717199c8841",
   "metadata": {},
   "source": [
    "### Step 8: Make plot"
   ]
  },
  {
   "cell_type": "code",
   "execution_count": null,
   "id": "7c360864-9e5b-4ae0-a82b-5779b9ebbbeb",
   "metadata": {
    "tags": []
   },
   "outputs": [],
   "source": [
    "month_names = ['Jan', 'Feb', 'March', 'April', 'May', 'June', 'July', 'Aug', 'Sept', 'Oct', 'Nov','Dec']\n",
    "plt.bar(month_names,  monthly_means)"
   ]
  }
 ],
 "metadata": {
  "kernelspec": {
   "display_name": "Python 3.10.0",
   "language": "python",
   "name": "python3.10.0"
  },
  "language_info": {
   "codemirror_mode": {
    "name": "ipython",
    "version": 3
   },
   "file_extension": ".py",
   "mimetype": "text/x-python",
   "name": "python",
   "nbconvert_exporter": "python",
   "pygments_lexer": "ipython3",
   "version": "3.10.0"
  }
 },
 "nbformat": 4,
 "nbformat_minor": 5
}
