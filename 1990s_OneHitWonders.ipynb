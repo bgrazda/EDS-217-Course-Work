{
 "cells": [
  {
   "cell_type": "markdown",
   "id": "826aec16-086c-442f-a04e-cad078fb781f",
   "metadata": {},
   "source": [
    "# 1. Import Data"
   ]
  },
  {
   "cell_type": "code",
   "execution_count": null,
   "id": "5c300331-5590-420f-91f4-bdbb2df64906",
   "metadata": {
    "tags": []
   },
   "outputs": [],
   "source": [
    "import pandas as pd\n",
    "import numpy as np\n",
    "import matplotlib.pyplot as plt\n",
    "import seaborn as sns \n",
    "import scipy\n",
    "from scipy.stats import linregress \n",
    "import IPython"
   ]
  },
  {
   "cell_type": "markdown",
   "id": "43f26d8d-741f-4eab-a4f3-bbd0c6f31384",
   "metadata": {},
   "source": [
    "# 2. Explore Data"
   ]
  },
  {
   "cell_type": "code",
   "execution_count": null,
   "id": "c36ba68b-ef1e-40de-bea0-2242d1d6f899",
   "metadata": {
    "tags": []
   },
   "outputs": [],
   "source": [
    "# url = 'https://ucsb.box.com/s/fo0sf1ocpzbbbhlfzxmmdyuyickan17x'\n",
    "\n",
    "\n",
    "full_90s = pd.read_csv('90sOneHitWonders.csv')\n",
    "full_90s.shape\n",
    "\n",
    "print(full_90s.head())\n",
    "print(full_90s.dtypes)\n",
    "print(full_90s.describe)\n"
   ]
  },
  {
   "cell_type": "markdown",
   "id": "145e42b0-4402-4f95-a22c-57586a534202",
   "metadata": {},
   "source": [
    "# 3. Clean Data\n",
    "Removed duplicate songs (why would a one hit wonder be in this data set twice?)"
   ]
  },
  {
   "cell_type": "code",
   "execution_count": null,
   "id": "9a492b14-73e6-4914-b5da-3b79ae1e32f7",
   "metadata": {
    "tags": []
   },
   "outputs": [],
   "source": [
    "real_wonders = full_90s[full_90s['Artist'].duplicated() == False]\n",
    "\n",
    "duplicate_artists = real_wonders = full_90s[full_90s['Artist'].duplicated() == True]\n",
    "real_wonders['Artist'].count\n",
    "print(duplicate_artists)"
   ]
  },
  {
   "cell_type": "markdown",
   "id": "36f1ac48-5b6f-4fcc-a1d6-2daebe85e683",
   "metadata": {},
   "source": [
    "# 4. Filter Data"
   ]
  },
  {
   "cell_type": "code",
   "execution_count": null,
   "id": "889d7c56-ab61-49f8-99cf-5559080a8dd5",
   "metadata": {
    "tags": []
   },
   "outputs": [],
   "source": [
    "full_90s = full_90s.drop_duplicates(subset=['Track'], keep='first')"
   ]
  },
  {
   "cell_type": "markdown",
   "id": "f5d67e36-5991-4569-8d40-346d2dc66508",
   "metadata": {},
   "source": [
    "## Year vs many factors: Exploring and Visualizing\n",
    "### Danceability A measure of how suitable the song is for dancing (0 to 1).\n",
    "### Energy: The intensity and activity level of the song (0 to 1).\n",
    "### Speechiness: The presence of spoken words in a song (0 to 1)\n",
    "### Acousticness: The likelihood that the song is acoustic\n",
    "### Liveness: The presence of an audience or live recording (0 to 1)\n",
    "### Valence: The musical positiveness or mood of the song (0 to 1)\n"
   ]
  },
  {
   "cell_type": "markdown",
   "id": "d6559bcd-e604-4506-8995-9351f6714b1d",
   "metadata": {},
   "source": [
    "# 5. Sort Data"
   ]
  },
  {
   "cell_type": "code",
   "execution_count": null,
   "id": "5e815c62-516f-4cc8-82e8-d8ecc172120f",
   "metadata": {
    "tags": []
   },
   "outputs": [],
   "source": [
    "duration_df = full_90s.copy().sort_values('Duration')\n",
    "duration_df.head()"
   ]
  },
  {
   "cell_type": "markdown",
   "id": "460f5b80-3a31-477a-9fd9-2e725ebe0943",
   "metadata": {
    "tags": []
   },
   "source": [
    "# 6. Transform Data"
   ]
  },
  {
   "cell_type": "code",
   "execution_count": null,
   "id": "4a8606c9-9d6f-46a1-bca9-595acc35f1c5",
   "metadata": {},
   "outputs": [],
   "source": []
  },
  {
   "cell_type": "markdown",
   "id": "f0e6c598-e37c-484c-96ab-a8c60b1e13f4",
   "metadata": {},
   "source": [
    "# 7-8. Group and Aggregate Data"
   ]
  },
  {
   "cell_type": "code",
   "execution_count": null,
   "id": "92fbe79c-9190-40cc-9bea-5c2a3c1e2e93",
   "metadata": {
    "tags": []
   },
   "outputs": [],
   "source": [
    "# First group by year\n",
    "# Average each variable by year\n",
    "\n",
    "yearly_averages = full_90s.groupby('Year').agg({\n",
    "    'Liveness':'mean',\n",
    "    'Danceability': 'mean',\n",
    "    'Energy': 'mean',\n",
    "    'Speechiness': 'mean',\n",
    "    'Acousticness': 'mean',\n",
    "    'Valence': 'mean'\n",
    "})\n",
    "\n",
    "yearly_averages.head()"
   ]
  },
  {
   "cell_type": "markdown",
   "id": "893f26a4-d6e2-4cfe-a707-0089dab2da5d",
   "metadata": {
    "tags": []
   },
   "source": [
    "# 9. Visualize Data"
   ]
  },
  {
   "cell_type": "code",
   "execution_count": null,
   "id": "1fe65470-8ed3-4627-8204-d1b2943c530a",
   "metadata": {
    "tags": []
   },
   "outputs": [],
   "source": [
    "fig, ax = plt.subplots(1,2, figsize = (16,8))\n",
    "\n",
    "fig1 = sns.lineplot(data = yearly_averages, x = 'Year', y = 'Liveness', label = 'Liveness', ax = ax[1], color = \"#B3001B\")\n",
    "fig1 = sns.lineplot(data = yearly_averages, x = 'Year', y = 'Danceability', label = 'Danceability', ax = ax[1], color = \"#00F5D4\")\n",
    "fig1 = sns.lineplot(data = yearly_averages, x = 'Year', y = 'Energy', label = 'Energy', ax = ax[1], color = \"#F15BB5\")\n",
    "fig1 = sns.lineplot(data = yearly_averages, x = 'Year', y = 'Speechiness', label = 'Speechiness', ax = ax[1], color = \"#9B5DE5\")\n",
    "fig1 = sns.lineplot(data = yearly_averages, x = 'Year', y = 'Acousticness', label = 'Acousticness', ax = ax[1], color = \"#37123C\")\n",
    "fig1 = sns.lineplot(data = yearly_averages, x = 'Year', y = 'Valence', label = 'Valence', ax = ax[1], color = \"#FEE440\")\n",
    "\n",
    "fig1.set(ylabel = \"Proportion\")\n",
    "corr_matrix = yearly_averages.select_dtypes(include=np.number).corr()\n",
    "fig2 = sns.heatmap(data = corr_matrix, ax = ax[0], cmap = \"BuPu\")\n",
    "fig.suptitle(\"Exploring Song Attribute Averages with 1990's 'One Hit Wonders' Over the Decade\")\n",
    "fig.tight_layout()\n"
   ]
  },
  {
   "cell_type": "markdown",
   "id": "109d85d4-1dc8-4e92-8d07-ad6c9b45d3cb",
   "metadata": {
    "tags": []
   },
   "source": [
    "## Valence vs Danceability"
   ]
  },
  {
   "cell_type": "code",
   "execution_count": null,
   "id": "bc8fd868-7d04-4835-8ad3-c11d69705546",
   "metadata": {
    "tags": []
   },
   "outputs": [],
   "source": [
    "fig = plt.figure(figsize = (8,8))\n",
    "fig3 = sns.regplot(data = full_90s, x = 'Valence', y = 'Danceability', ci = None, scatter_kws = {\"color\" :\"#D741A7\"}, line_kws = {\"color\" : \"#5398BE\"})\n",
    "\n",
    "fig3.set(ylabel = \"Proportion of Danceability)\")\n",
    "fig3.set(xlabel = \"Proportion of Valence\")\n",
    "fig3.set_title(\"Relationship of Danceability and Valence for 90s Songs\")\n",
    "# slope, intercept, r_value, p_value, std_err = scipy.stats.linregress(x = dance_plot.get_lines()[0].get_ydata(),\n",
    "#                                                                      y = dance_plot.get_lines()[0].get_xdata())\n",
    "\n",
    "# print(slope, intercept, std_err)\n",
    "\n"
   ]
  },
  {
   "cell_type": "markdown",
   "id": "30adb4ea-3397-44f1-8c82-98a1935fd9fb",
   "metadata": {},
   "source": [
    "##  Song vs Popularity Graph vs Year"
   ]
  },
  {
   "cell_type": "code",
   "execution_count": null,
   "id": "967a6034-0a16-4cf5-be36-6f91948e3fcf",
   "metadata": {},
   "outputs": [],
   "source": [
    "# Opt out of this graph bc they are all popular! "
   ]
  },
  {
   "cell_type": "markdown",
   "id": "09a246a4-9afb-45da-822d-c63d014f213e",
   "metadata": {},
   "source": [
    "## Liveness vs Danceability"
   ]
  },
  {
   "cell_type": "code",
   "execution_count": null,
   "id": "ff9d3b83-d9ea-44a1-beb9-fad8672d4ad1",
   "metadata": {
    "tags": []
   },
   "outputs": [],
   "source": [
    "fig = plt.figure(figsize = (8,8))\n",
    "fig4 = sns.regplot(data = full_90s, x = 'Liveness', y = 'Danceability', ci = None, scatter_kws = {\"color\" :\"#D741A7\"}, line_kws = {\"color\" : \"#5398BE\"})\n",
    "\n",
    "fig4.set(ylabel = \"Proportion of Danceability\")\n",
    "fig4.set(xlabel = \"Proportion of Liveness\")\n",
    "fig4.set_title(\"Relationship of Danceability and Liveness for 90s Songs\")\n",
    "\n",
    "# It's interesting that the danceability decreases as songs are \"more live.\" This could be because when a song is performed live, there is usually more instrumental vibes. \n",
    "# To investigate this hypothesis, we decided to plot liveness vs acousticness."
   ]
  },
  {
   "cell_type": "markdown",
   "id": "3c3e9536-f2e6-4061-9a5a-1dd197f8364f",
   "metadata": {},
   "source": [
    "## Liveness vs Instrumentalness"
   ]
  },
  {
   "cell_type": "code",
   "execution_count": null,
   "id": "48dbe7a8-57e8-46e5-81e0-ee0fb74dd630",
   "metadata": {
    "tags": []
   },
   "outputs": [],
   "source": [
    "fig, (ax1, ax2) = plt.subplots(1, 2, figsize = (16,8))\n",
    "\n",
    "\n",
    "fig5 = ax2.hexbin(full_90s['Acousticness'], full_90s['Liveness'], gridsize=(15,15), cmap=plt.cm.Greys_r)\n",
    "\n",
    "fig6 = ax1.scatter(data = full_90s, x = 'Liveness', y = 'Acousticness')\n",
    "\n",
    "# fig6.set(xlabel = \"Acousticness\")\n",
    "fig.suptitle(\"Exploring Correlation between Liveness and Acousticness\")\n",
    "fig.supxlabel(\"Acousticness\")\n",
    "fig.supylabel(\"Liveness\")\n",
    "fig.tight_layout()\n",
    "\n",
    "#Looks funky but part of the process ig\n",
    "#Disproving our point; might be probable that much of this data was not performed in front of a live audience, showing that there is not a strong, positive relationship."
   ]
  },
  {
   "cell_type": "code",
   "execution_count": null,
   "id": "d5bdaf7d-2f68-440e-876b-7119d12a1d3b",
   "metadata": {},
   "outputs": [],
   "source": []
  }
 ],
 "metadata": {
  "kernelspec": {
   "display_name": "Python 3.10.0",
   "language": "python",
   "name": "python3.10.0"
  },
  "language_info": {
   "codemirror_mode": {
    "name": "ipython",
    "version": 3
   },
   "file_extension": ".py",
   "mimetype": "text/x-python",
   "name": "python",
   "nbconvert_exporter": "python",
   "pygments_lexer": "ipython3",
   "version": "3.10.0"
  }
 },
 "nbformat": 4,
 "nbformat_minor": 5
}
