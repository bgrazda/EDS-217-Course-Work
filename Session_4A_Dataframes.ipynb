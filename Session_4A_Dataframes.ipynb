{
 "cells": [
  {
   "cell_type": "markdown",
   "id": "846c98e9-1df6-433b-942c-a63270c14304",
   "metadata": {},
   "source": [
    "# Day 4: Session A - [DataFrames]\n",
    "\n",
    "[https://eds-217-essential-python.github.io/course-materials/interactive-sessions/4a_dataframes.html]\n",
    "\n",
    "Date: [09/06/24]"
   ]
  },
  {
   "cell_type": "code",
   "execution_count": null,
   "id": "aaf856a4-602f-4429-a9e8-f17704b1470a",
   "metadata": {
    "tags": []
   },
   "outputs": [],
   "source": [
    "import pandas as pd\n",
    "import numpy as np"
   ]
  },
  {
   "cell_type": "code",
   "execution_count": null,
   "id": "b1cf1724-cad4-4fc1-9b73-4dd796f76751",
   "metadata": {
    "tags": []
   },
   "outputs": [],
   "source": [
    "url = \"https://raw.githubusercontent.com/datasets/world-cities/master/data/world-cities.csv\"\n",
    "cities_df = pd.read_csv(url)"
   ]
  },
  {
   "cell_type": "markdown",
   "id": "67c49de9-6bf7-4ac4-8af4-8636ef1c014a",
   "metadata": {},
   "source": [
    "## Step 2: Explore Data\n",
    "\n",
    "Figuring out the DataFrame structure.\n",
    "\n",
    "Looking at data types.\n",
    "\n",
    "Getting a sense of data values.\n",
    "\n",
    "Checking out the column names."
   ]
  },
  {
   "cell_type": "code",
   "execution_count": null,
   "id": "0e8167b7-5d13-49e7-b53b-59c8c912989a",
   "metadata": {
    "tags": []
   },
   "outputs": [],
   "source": [
    "cities_df.head()"
   ]
  },
  {
   "cell_type": "code",
   "execution_count": null,
   "id": "f71b1627-0251-412f-86b9-b115c083ae99",
   "metadata": {
    "tags": []
   },
   "outputs": [],
   "source": [
    "cities_df.tail()"
   ]
  },
  {
   "cell_type": "markdown",
   "id": "0e321c97-3166-4bb2-ba40-1775f452ef81",
   "metadata": {},
   "source": [
    "### Exploring DataFrames using their properties:"
   ]
  },
  {
   "cell_type": "markdown",
   "id": "11570a04-7912-4ebb-917a-4be7bb0533d3",
   "metadata": {
    "tags": []
   },
   "source": [
    "Use `shape` to get the size (rows x columns) of a dataframe\n",
    "\n",
    "-Attribute: quantity that is contained by dataframes, NOT a data frame\n",
    "i.e. class, shape, etc\n",
    "\n",
    "-stand alone variable that are properties of the object you are referring to"
   ]
  },
  {
   "cell_type": "code",
   "execution_count": null,
   "id": "df541717-4541-461d-906c-3f67735263ff",
   "metadata": {
    "tags": []
   },
   "outputs": [],
   "source": [
    "cities_df.shape"
   ]
  },
  {
   "cell_type": "markdown",
   "id": "94c5f1b9-f213-48e6-a999-985561c2d9af",
   "metadata": {},
   "source": [
    "Use `columns` to get a list of column names"
   ]
  },
  {
   "cell_type": "code",
   "execution_count": null,
   "id": "36c15670-dc90-4c19-be54-0070fcdac223",
   "metadata": {
    "tags": []
   },
   "outputs": [],
   "source": [
    "cities_df.columns #returns columns indices\n",
    "\n",
    "list(cities_df.columns) #coercing the name of indices into a list"
   ]
  },
  {
   "cell_type": "markdown",
   "id": "2e31c272-2d35-4dec-9757-8c791e106697",
   "metadata": {},
   "source": [
    "Determining the types of data using `dtypes` property"
   ]
  },
  {
   "cell_type": "code",
   "execution_count": null,
   "id": "3e9716a2-0ff2-494c-9900-e709fd7cb885",
   "metadata": {
    "tags": []
   },
   "outputs": [],
   "source": [
    "cities_df.dtypes"
   ]
  },
  {
   "cell_type": "markdown",
   "id": "cfd45e8c-9b7f-472f-8122-83100b26ffd1",
   "metadata": {},
   "source": [
    "### Exploring DataFrames using their methods"
   ]
  },
  {
   "cell_type": "markdown",
   "id": "2452af3a-91d9-41c2-9054-21f2e002e482",
   "metadata": {},
   "source": [
    "Use the `describe()` method to get a summary of the dataframe"
   ]
  },
  {
   "cell_type": "code",
   "execution_count": null,
   "id": "d8a71d00-e787-4418-9cb6-f503b893f22e",
   "metadata": {
    "tags": []
   },
   "outputs": [],
   "source": [
    "cities_df.describe() #describes numeric values"
   ]
  },
  {
   "cell_type": "markdown",
   "id": "03380e7b-8cea-47aa-b528-fa5607d81b5c",
   "metadata": {},
   "source": [
    "Use `info()` to get the deetailed information about column types and content."
   ]
  },
  {
   "cell_type": "code",
   "execution_count": null,
   "id": "3cc4e0a7-41c8-4b90-b214-7041d57d5956",
   "metadata": {
    "tags": []
   },
   "outputs": [],
   "source": [
    "cities_df.info()"
   ]
  },
  {
   "cell_type": "markdown",
   "id": "caa1720c-ce20-407d-9b74-176634ba2c5c",
   "metadata": {},
   "source": [
    "Use `isnull()` and `sum()` to count missing values"
   ]
  },
  {
   "cell_type": "code",
   "execution_count": null,
   "id": "8ac22627-28a6-4569-b54a-ae253ca439bb",
   "metadata": {
    "tags": []
   },
   "outputs": [],
   "source": [
    "cities_df.isnull().sum()"
   ]
  },
  {
   "cell_type": "markdown",
   "id": "89ef1c4a-9c8a-4e2e-a65b-43b079ad611c",
   "metadata": {},
   "source": [
    "## Step 2: Clean Data"
   ]
  },
  {
   "cell_type": "markdown",
   "id": "aaedf39c-c635-493b-8b54-6d1e42384957",
   "metadata": {
    "tags": []
   },
   "source": [
    "For removing missing data, `dropna()` is best, use `subset` argument to select specific columns."
   ]
  },
  {
   "cell_type": "code",
   "execution_count": null,
   "id": "3609a858-14ad-4325-8014-f01eb3e87af0",
   "metadata": {
    "tags": []
   },
   "outputs": [],
   "source": [
    "cities_df = cities_df.dropna(subset=['subcountry'])"
   ]
  },
  {
   "cell_type": "code",
   "execution_count": null,
   "id": "642b232a-0686-41f5-b192-3fd7540835e2",
   "metadata": {
    "tags": []
   },
   "outputs": [],
   "source": [
    "cities_df.isnull().sum()"
   ]
  },
  {
   "cell_type": "markdown",
   "id": "371e8279-e422-4a51-a945-375f89bd517e",
   "metadata": {
    "tags": []
   },
   "source": [
    "## Step 3: Basic Selecting and Filtering"
   ]
  },
  {
   "cell_type": "markdown",
   "id": "b01a3a09-020d-42bf-acc3-653a58ebf8c4",
   "metadata": {},
   "source": [
    "Selecting a column is easy! Just add it to the dataframe with brackets"
   ]
  },
  {
   "cell_type": "code",
   "execution_count": null,
   "id": "7facdd34-e29c-46c5-8455-1e0b8a44f921",
   "metadata": {
    "tags": []
   },
   "outputs": [],
   "source": [
    "cities_df['name'].head() #using the head() method to keep my notebook clean [for demo]"
   ]
  },
  {
   "cell_type": "markdown",
   "id": "26ce794a-dd06-4b7f-95bb-f6b256460463",
   "metadata": {},
   "source": [
    "If we want to select more than one column, put the columns we want into a list."
   ]
  },
  {
   "cell_type": "code",
   "execution_count": null,
   "id": "1d381740-6968-4c1f-814d-64f6d0b843bf",
   "metadata": {
    "tags": []
   },
   "outputs": [],
   "source": [
    "cities_df[['name', 'country']] #double brackets to return list of columns in a dataframe output\n",
    "#requesting a single column returns a series []\n",
    "#requesting a single column as a single element list returns data frame[[]]"
   ]
  },
  {
   "cell_type": "markdown",
   "id": "fc8787f7-4bb5-4d52-bc3a-7a5b1cf80c22",
   "metadata": {},
   "source": [
    "To make a Series from a oclumn, request it like `df['column']`\n",
    "\n",
    "To make a DataFrame from a column, request it as a single-item list: `df[ [ 'column' ] ]`"
   ]
  },
  {
   "cell_type": "markdown",
   "id": "a0adb871-bf00-4a90-a789-f46bbe256eff",
   "metadata": {},
   "source": [
    "### Basic Filtering\n",
    "\n",
    "Use conditional expressions to filter rows. "
   ]
  },
  {
   "cell_type": "code",
   "execution_count": null,
   "id": "450889e0-c5df-4aee-9008-81bab0dd5505",
   "metadata": {
    "tags": []
   },
   "outputs": [],
   "source": [
    "us_cities = cities_df[ cities_df['country'] == 'United States' ]\n",
    "print(us_cities)"
   ]
  },
  {
   "cell_type": "markdown",
   "id": "6db708e9-91e1-4b0a-bec5-53967b8ce31e",
   "metadata": {},
   "source": [
    "We can combine logical operators to filter on multiple columns"
   ]
  },
  {
   "cell_type": "code",
   "execution_count": null,
   "id": "8eaae392-2d60-4b80-97e8-a98300d4afdc",
   "metadata": {
    "tags": []
   },
   "outputs": [],
   "source": [
    "#Efficient! Parentheses matter, wrap each condition to avoid confusion\n",
    "california_cities = cities_df[\n",
    "    (cities_df['country'] == 'United States') & \n",
    "    (cities_df['subcountry'] == 'California')]   \n",
    "print(california_cities[['name', 'country', 'subcountry']].head())"
   ]
  },
  {
   "cell_type": "code",
   "execution_count": null,
   "id": "61f1e81e-5dab-4c2c-ac42-88d5721803e7",
   "metadata": {
    "tags": []
   },
   "outputs": [],
   "source": [
    "# Declarative and expressive!\n",
    "in_us = cities_df['country'] == 'United States'\n",
    "in_ca = cities_df['subcountry'] == 'California'\n",
    "\n",
    "california_cities = cities_df[ in_us & in_ca ]\n",
    "california_cities.head()"
   ]
  },
  {
   "cell_type": "markdown",
   "id": "1c375070-08d2-46bf-b805-5eb4c3803f57",
   "metadata": {
    "tags": []
   },
   "source": [
    "## Step 5: Sorting and Ranking"
   ]
  },
  {
   "cell_type": "markdown",
   "id": "0724307b-a656-4a67-b442-d9e4ae2645b5",
   "metadata": {
    "tags": []
   },
   "source": [
    "## Step 6: Transformations"
   ]
  },
  {
   "cell_type": "markdown",
   "id": "07213d03-38ce-4cd0-92e7-9928c4615ae1",
   "metadata": {
    "tags": []
   },
   "source": [
    "## Step 7/8: Grouping / Aggregation\n",
    "The workhorse method for grouping in pandas is `groupby()`\n"
   ]
  },
  {
   "cell_type": "markdown",
   "id": "0ddd8e30-b238-4665-ac57-ec46a0bf8337",
   "metadata": {},
   "source": [
    "Use aggregation on groupby to get patterns out of datasets.\n",
    "\n",
    "Aggregations: `mean()`, `max()`, `median()`, `count()`"
   ]
  },
  {
   "cell_type": "code",
   "execution_count": null,
   "id": "9a1f7762-1145-40cc-95cb-1b33fb39efbd",
   "metadata": {
    "tags": []
   },
   "outputs": [],
   "source": [
    "cities_per_country = cities_df.groupby('country')\n",
    "cities_per_country['name'].count().sort_values(ascending = False).head(10)"
   ]
  },
  {
   "cell_type": "markdown",
   "id": "1725f8a1-523d-4558-a6e1-846ff9060bd9",
   "metadata": {},
   "source": [
    "## Visualization"
   ]
  }
 ],
 "metadata": {
  "kernelspec": {
   "display_name": "Python 3.10.0",
   "language": "python",
   "name": "python3.10.0"
  },
  "language_info": {
   "codemirror_mode": {
    "name": "ipython",
    "version": 3
   },
   "file_extension": ".py",
   "mimetype": "text/x-python",
   "name": "python",
   "nbconvert_exporter": "python",
   "pygments_lexer": "ipython3",
   "version": "3.10.0"
  }
 },
 "nbformat": 4,
 "nbformat_minor": 5
}
