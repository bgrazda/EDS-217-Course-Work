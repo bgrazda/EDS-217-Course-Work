{
 "cells": [
  {
   "cell_type": "code",
   "execution_count": null,
   "id": "c0d11ef3-bcdf-4814-bf6f-e19e2e99a380",
   "metadata": {
    "tags": []
   },
   "outputs": [],
   "source": [
    "import pandas as pd\n",
    "import numpy as np\n",
    "import matplotlib.pyplot as plt\n",
    "import seaborn as sns\n",
    "\n",
    "# Load the dataset\n",
    "url = \"https://github.com/Spijkervet/eurovision-dataset/releases/download/2020.0/contestants.csv\"\n",
    "eurovision_df = pd.read_csv(url)"
   ]
  },
  {
   "cell_type": "markdown",
   "id": "196f2715-226d-481f-855c-9cddc31f4c57",
   "metadata": {},
   "source": [
    "# Task 1: Data Exploration and Cleaning"
   ]
  },
  {
   "cell_type": "markdown",
   "id": "8ce6e937-9d1b-483f-9414-7d30ddecb9a0",
   "metadata": {},
   "source": [
    "### Display the first few rows of the dataset."
   ]
  },
  {
   "cell_type": "code",
   "execution_count": null,
   "id": "156ad3ec-42bb-44b3-b08e-1e41cfddf275",
   "metadata": {
    "tags": []
   },
   "outputs": [],
   "source": [
    "eurovision_df.head(3)"
   ]
  },
  {
   "cell_type": "markdown",
   "id": "795fd256-1809-42b7-b2c0-3d54f065393d",
   "metadata": {},
   "source": [
    "### Check the data types of each column."
   ]
  },
  {
   "cell_type": "code",
   "execution_count": null,
   "id": "d8e0faf6-9554-4aca-a33e-3dd60f1a0b60",
   "metadata": {
    "tags": []
   },
   "outputs": [],
   "source": [
    "eurovision_df.dtypes"
   ]
  },
  {
   "cell_type": "markdown",
   "id": "e5a2764b-cbdf-4c44-a95a-23b458a74be6",
   "metadata": {},
   "source": [
    "### Identify and handle any missing values."
   ]
  },
  {
   "cell_type": "code",
   "execution_count": null,
   "id": "3fa76bad-c12e-4fc6-beb5-decbf1e451a8",
   "metadata": {},
   "outputs": [],
   "source": []
  },
  {
   "cell_type": "markdown",
   "id": "f5f71ab7-b733-4544-846f-2921fa87c562",
   "metadata": {},
   "source": [
    "### Convert the ‘year’ column to datetime type."
   ]
  },
  {
   "cell_type": "code",
   "execution_count": null,
   "id": "4a780b94-7c1e-4a2c-a561-3b7b52db06ab",
   "metadata": {
    "tags": []
   },
   "outputs": [],
   "source": [
    "eurovision_df['year'] = pd.to_datetime(eurovision_df['year'])\n",
    "eurovision_df.head()"
   ]
  },
  {
   "cell_type": "markdown",
   "id": "c6ed9676-7687-44b6-9e18-a73b75cd340c",
   "metadata": {},
   "source": [
    "## Task 2: Filtering and Transformation"
   ]
  },
  {
   "cell_type": "markdown",
   "id": "e51049d9-a442-4a82-a710-1f474a99891c",
   "metadata": {},
   "source": [
    " ### Create a new dataframe containing only data from 1990 onwards"
   ]
  },
  {
   "cell_type": "code",
   "execution_count": null,
   "id": "859384a7-4099-46a8-b44d-2f1983376ad4",
   "metadata": {
    "tags": []
   },
   "outputs": [],
   "source": [
    "df_1990 = eurovision_df.copy().set_index(\"year\")\n",
    "df_1990.head()"
   ]
  },
  {
   "cell_type": "code",
   "execution_count": null,
   "id": "f49e9e01-e6f3-4224-8f58-ed48c21626d6",
   "metadata": {
    "tags": []
   },
   "outputs": [],
   "source": [
    "new_df_1990 = df_1990[df_1990.index.year >= 1990]\n",
    "\n",
    "new_df_1990.head()"
   ]
  },
  {
   "cell_type": "code",
   "execution_count": null,
   "id": "479a6a8e-1599-4ef9-883c-5e440872027c",
   "metadata": {
    "tags": []
   },
   "outputs": [],
   "source": [
    "dir(df_1990.index.year)"
   ]
  },
  {
   "cell_type": "markdown",
   "id": "ff13da32-ca86-4b93-abe9-d45592ad989a",
   "metadata": {},
   "source": [
    "### Calculate the difference between final points and semi-final points for each entry and make a histogram of these values using the builtin dataframe .hist() command."
   ]
  },
  {
   "cell_type": "code",
   "execution_count": null,
   "id": "2b6b707c-6ee9-461d-8cfd-e003262a5e83",
   "metadata": {
    "tags": []
   },
   "outputs": [],
   "source": []
  },
  {
   "cell_type": "markdown",
   "id": "7858e0b3-1312-4089-83b3-dc6342170431",
   "metadata": {},
   "source": []
  }
 ],
 "metadata": {
  "kernelspec": {
   "display_name": "Python 3.10.0",
   "language": "python",
   "name": "python3.10.0"
  },
  "language_info": {
   "codemirror_mode": {
    "name": "ipython",
    "version": 3
   },
   "file_extension": ".py",
   "mimetype": "text/x-python",
   "name": "python",
   "nbconvert_exporter": "python",
   "pygments_lexer": "ipython3",
   "version": "3.10.0"
  }
 },
 "nbformat": 4,
 "nbformat_minor": 5
}
