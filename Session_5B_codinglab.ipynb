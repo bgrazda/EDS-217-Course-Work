{
 "cells": [
  {
   "cell_type": "markdown",
   "id": "96d3db15-e308-4a47-babb-8b9af02eb239",
   "metadata": {
    "tags": []
   },
   "source": [
    "# Day 5: Session B - [Coding CoLab]\n",
    "\n",
    "[https://eds-217-essential-python.github.io/course-materials/coding-colabs/6b_advanced_data_manipulation.html]\n",
    "\n",
    "Date: [09/10/24]"
   ]
  },
  {
   "cell_type": "code",
   "execution_count": null,
   "id": "e8c48900-b593-42df-87e9-e8b1ca22ac89",
   "metadata": {
    "tags": []
   },
   "outputs": [],
   "source": [
    "import pandas as pd\n",
    "import matplotlib.pyplot as plt\n",
    "import seaborn as sns\n",
    "\n",
    "# Load the temperature anomaly dataset\n",
    "temp_url = \"https://bit.ly/monthly_temp\"\n",
    "temp_df = pd.read_csv(temp_url, parse_dates=['Date'])\n",
    "\n",
    "# Load the CO2 concentration dataset\n",
    "co2_url = \"https://bit.ly/monthly_CO2\"\n",
    "co2_df = pd.read_csv(co2_url, parse_dates=['Date'])\n",
    "\n",
    "print(\"Temperature data:\")\n",
    "print(temp_df.head())\n",
    "print(\"\\nCO2 data:\")\n",
    "print(co2_df.head())"
   ]
  },
  {
   "cell_type": "code",
   "execution_count": null,
   "id": "231ebae4-74e5-4a86-9722-822ac97f95f1",
   "metadata": {
    "tags": []
   },
   "outputs": [],
   "source": [
    "temp_df.set_index(\"Date\", inplace = True)\n",
    "co2_df.set_index(\"Date\", inplace = True)"
   ]
  },
  {
   "cell_type": "code",
   "execution_count": null,
   "id": "da2c0439-fafb-40ac-94dd-c389a851490a",
   "metadata": {
    "tags": []
   },
   "outputs": [],
   "source": [
    "#Ensure that there are no missing values in either dataset.\n",
    "print(temp_df.head())\n",
    "print(co2_df.head())\n",
    "print(temp_df.isnull().sum())\n",
    "print(co2_df.isnull().sum())"
   ]
  },
  {
   "cell_type": "markdown",
   "id": "ce10691f-9d17-44fa-a495-5becd6b644b5",
   "metadata": {
    "tags": []
   },
   "source": [
    "## Task 2: Joining Datasets\n",
    "Merge the temperature and CO2 datasets based on their date index."
   ]
  },
  {
   "cell_type": "code",
   "execution_count": null,
   "id": "8186f17b-82ad-4edb-a482-8320a22e9d99",
   "metadata": {
    "tags": []
   },
   "outputs": [],
   "source": [
    "merged_df = pd.merge(temp_df, co2_df, on = 'Date', how = 'inner')\n",
    "merged_df.info"
   ]
  },
  {
   "cell_type": "markdown",
   "id": "ace62f9b-38e5-4fef-b1b5-afcb0b71098b",
   "metadata": {},
   "source": [
    "Handle any missing values that may have been introduced by the merge."
   ]
  },
  {
   "cell_type": "code",
   "execution_count": null,
   "id": "1acb194a-04a9-411c-8eea-090f2decc21e",
   "metadata": {
    "tags": []
   },
   "outputs": [],
   "source": [
    "print(merged_df.isnull().sum())"
   ]
  },
  {
   "cell_type": "markdown",
   "id": "d86771cb-9a31-49f9-bac7-28857f586110",
   "metadata": {},
   "source": [
    "Create some plots showing temperature anomalies and CO2 concentrations over time using pandas built-in plotting functions."
   ]
  },
  {
   "cell_type": "code",
   "execution_count": null,
   "id": "07bafcbe-745d-4c17-acef-7c71b568d172",
   "metadata": {
    "tags": []
   },
   "outputs": [],
   "source": [
    "merged_df.plot(y = 'MonthlyAnomaly')\n",
    "merged_df.plot(y = 'CO2Concentration')"
   ]
  },
  {
   "cell_type": "markdown",
   "id": "df42aae8-4b92-4e61-bbc3-22f2cc707b06",
   "metadata": {},
   "source": [
    "### Task 3: Time Series Analysis"
   ]
  },
  {
   "cell_type": "markdown",
   "id": "6bb50142-5e1a-4e49-b540-22a838657dc1",
   "metadata": {},
   "source": [
    "Resample the data to annual averages."
   ]
  },
  {
   "cell_type": "code",
   "execution_count": null,
   "id": "807d7302-aad5-4697-84ae-16e1c65572a9",
   "metadata": {
    "tags": []
   },
   "outputs": [],
   "source": [
    "annual_averages = merged_df.copy()\n",
    "annual_averages = annual_averages.groupby(merged_df.index.year).mean()\n",
    "annual_averages.head()"
   ]
  },
  {
   "cell_type": "markdown",
   "id": "4b0ae6a0-49f4-4fac-904c-c001b3bc3979",
   "metadata": {},
   "source": [
    "Calculate the year-over-year change in temperature anomalies and CO2 concentrations."
   ]
  },
  {
   "cell_type": "code",
   "execution_count": null,
   "id": "89a16984-e609-47ab-90d3-2d9c4fa400fe",
   "metadata": {
    "tags": []
   },
   "outputs": [],
   "source": [
    "# def year_to_year(year1):\n",
    "#         monthlyanomaly = annual_averages['MonthlyAnomaly'].diff\n",
    "#         co2_change = annual_averages['CO2Concentration'].diff\n",
    "#         return monthlyanomaly[year1]\n",
    "    \n",
    "\n",
    "# annual_averages[year_to_year] = annual_averages.index.to_series().apply(year_to_year)\n",
    "# annual_averages.head()\n",
    "\n",
    "\n",
    "annual_averages['monthly_y2y'] = annual_averages['MonthlyAnomaly'].diff()\n",
    "annual_averages['co2_y2y'] = annual_averages['CO2Concentration'].diff()\n",
    "annual_averages.head()"
   ]
  },
  {
   "cell_type": "markdown",
   "id": "046ad2e9-6388-4c44-a2a9-1679cdd7cddf",
   "metadata": {},
   "source": [
    "Create a scatter plot (use the plt.scatter() function) of annual temperature anomalies vs CO2 concentrations."
   ]
  },
  {
   "cell_type": "code",
   "execution_count": null,
   "id": "01aefe9f-7b08-4bd1-992d-c890488fb646",
   "metadata": {
    "tags": []
   },
   "outputs": [],
   "source": [
    "annual_averages.plot.scatter(x = 'monthly_y2y', y = 'co2_y2y')"
   ]
  },
  {
   "cell_type": "markdown",
   "id": "8febb941-b71e-49e0-94de-fa5a78ae9f7b",
   "metadata": {},
   "source": [
    "### Task 4: Seasonal Analysis"
   ]
  },
  {
   "cell_type": "markdown",
   "id": "aff59c30-8dee-4c3e-8781-d7a3e7cd6841",
   "metadata": {
    "tags": []
   },
   "source": [
    "Create a function to extract the season from a given date (hint: use the date.month attribute and if-elif-else to assign the season in your function)."
   ]
  },
  {
   "cell_type": "code",
   "execution_count": null,
   "id": "629a1b28-61a4-45c3-9f28-5e4d3bbc81d7",
   "metadata": {
    "tags": []
   },
   "outputs": [],
   "source": [
    "def season(date):\n",
    "    this_month = date.month\n",
    "    if(this_month >= 3) & (this_month <=5):\n",
    "            return 'Spring'\n",
    "    elif (this_month >= 6) & (this_month <= 8):\n",
    "             return 'Summer'\n",
    "    elif (this_month >= 9) & (this_month <=11):\n",
    "              return 'Autumn'\n",
    "    else: return 'Winter'\n"
   ]
  },
  {
   "cell_type": "markdown",
   "id": "df841fee-4b77-43d4-8f0b-f6cbe8060d3e",
   "metadata": {
    "tags": []
   },
   "source": [
    "Use the function to create a new column called Season"
   ]
  },
  {
   "cell_type": "code",
   "execution_count": null,
   "id": "9473b995-0a9a-4415-af1c-b2abebe8d4dc",
   "metadata": {
    "tags": []
   },
   "outputs": [],
   "source": [
    "merged_df['season'] = merged_df.index.map(season)\n",
    "merged_df.head()"
   ]
  },
  {
   "cell_type": "markdown",
   "id": "b6066db3-d1dc-417d-8512-f0691265bd41",
   "metadata": {},
   "source": [
    "Calculate the average temperature anomaly and CO2 concentration for each season."
   ]
  },
  {
   "cell_type": "code",
   "execution_count": null,
   "id": "615e6f06-1161-4385-9c26-193c1ce62e81",
   "metadata": {
    "tags": []
   },
   "outputs": [],
   "source": [
    "merged_df= merged_df.groupby('season').mean('MonthlyAnomaly')\n",
    "merged_df= merged_df.groupby('season').mean('CO2Concentration')\n",
    "\n",
    "merged_df.head()"
   ]
  },
  {
   "cell_type": "markdown",
   "id": "b52228b8-c626-4397-9b65-97b22c05fadc",
   "metadata": {},
   "source": [
    "Create a box plot (use sns.boxplot) showing the distribution of temperature anomalies for each season."
   ]
  },
  {
   "cell_type": "code",
   "execution_count": null,
   "id": "9a4a88c6-6a5f-4850-a3d6-aa0463bf5ced",
   "metadata": {
    "tags": []
   },
   "outputs": [],
   "source": [
    "sns.boxplot(y =merged_df['MonthlyAnomaly'])"
   ]
  }
 ],
 "metadata": {
  "kernelspec": {
   "display_name": "Python 3.10.0",
   "language": "python",
   "name": "python3.10.0"
  },
  "language_info": {
   "codemirror_mode": {
    "name": "ipython",
    "version": 3
   },
   "file_extension": ".py",
   "mimetype": "text/x-python",
   "name": "python",
   "nbconvert_exporter": "python",
   "pygments_lexer": "ipython3",
   "version": "3.10.0"
  }
 },
 "nbformat": 4,
 "nbformat_minor": 5
}
