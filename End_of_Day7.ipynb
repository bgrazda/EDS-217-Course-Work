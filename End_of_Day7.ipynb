{
 "cells": [
  {
   "cell_type": "code",
   "execution_count": null,
   "id": "274d6de8-a0ea-4022-80fe-e477b5a1e640",
   "metadata": {
    "tags": []
   },
   "outputs": [],
   "source": [
    "import pandas as pd\n",
    "import seaborn as sns\n",
    "import matplotlib.pyplot as plt\n",
    "import numpy as np\n",
    "\n",
    "plant_url = \"https://prism.oregonstate.edu/projects/phm_data/phzm_us_zipcode_2023.csv\"\n",
    "plant_2023 = pd.read_csv(plant_url) "
   ]
  },
  {
   "cell_type": "code",
   "execution_count": null,
   "id": "601fa1e4-42dd-46bd-9dca-2c68636e3daa",
   "metadata": {
    "tags": []
   },
   "outputs": [],
   "source": [
    "plant2012_url = \"https://prism.oregonstate.edu/projects/public/phm/2012/phm_us_zipcode_2012.csv\"\n",
    "plant_2012 = pd.read_csv(plant2012_url)"
   ]
  },
  {
   "cell_type": "code",
   "execution_count": null,
   "id": "37577fe0-56b7-4efa-b965-cfe1ca3bba72",
   "metadata": {
    "tags": []
   },
   "outputs": [],
   "source": [
    "zipcode_url = \"http://uszipcodelist.com/zip_code_database.csv\"\n",
    "zipcodes = pd.read_csv(zipcode_url)"
   ]
  },
  {
   "cell_type": "code",
   "execution_count": null,
   "id": "830b1a36-c8f1-4dba-b91e-8b713049a4aa",
   "metadata": {
    "tags": []
   },
   "outputs": [],
   "source": [
    "#display the first few rows and print out the dataset info to get an idea of the contents of each dataset."
   ]
  },
  {
   "cell_type": "code",
   "execution_count": null,
   "id": "c4a6fc19-bc36-48f3-bf36-c8fa3a84d310",
   "metadata": {
    "tags": []
   },
   "outputs": [],
   "source": [
    "plant_2023.head()\n",
    "plant_2012.head()\n",
    "zipcodes.head()\n",
    "\n",
    "print(plant_2023.info)\n",
    "print(plant_2012.info)\n",
    "plant_2023['zipcode'] = plant_2023['zipcode'].astype('string')\n",
    "plant_2023['zipcode'] = plant_2023['zipcode'].str.zfill(5)\n",
    "plant_2012['zipcode'] = plant_2023['zipcode'].astype('string')\n",
    "plant_2012['zipcode'] = plant_2012['zipcode'].str.zfill(5)\n",
    "\n",
    "\n",
    "zipcodes['zip'] = zipcodes['zip'].astype('string')\n",
    "zipcodes['zip'] = zipcodes['zip'].str.zfill(5)\n",
    "\n",
    "zipcodes.head()"
   ]
  },
  {
   "cell_type": "code",
   "execution_count": null,
   "id": "a8e91746-0e08-4e8e-9f42-3042ad73b485",
   "metadata": {
    "tags": []
   },
   "outputs": [],
   "source": [
    "#Combine the 2012 and 2023 data together by adding a year column and then stacking them together.\n",
    "\n",
    "plant_2023['year'] = '2023'\n",
    "plant_2012['year'] = '2012'\n",
    "stacked_df = pd.concat([plant_2012, plant_2023])\n",
    "stacked_df.head()\n",
    "\n",
    "new_split = stacked_df['trange'].str.split(expand = True, pat = \" to \")\n",
    "print(new_split)"
   ]
  },
  {
   "cell_type": "code",
   "execution_count": null,
   "id": "082092f8-12af-41ff-9585-360fe1ef81b1",
   "metadata": {
    "tags": []
   },
   "outputs": [],
   "source": [
    "# dir(new_split)\n",
    "# for each_list in range(new_split.size):\n",
    "#           stacked_df['trange_min'] = new_split.iloc[each_list][0] \n",
    "#           stacked_df['trange_max'] = new_split.iloc[each_list][2]\n",
    "\n",
    "        \n",
    "# print(stacked_df.head())\n",
    "stacked_df['trange_min'] = pd.to_numeric(new_split[0])  \n",
    "stacked_df['trange_max'] = pd.to_numeric(new_split[1])\n",
    "stacked_df.head()\n",
    "\n",
    "new_df = stacked_df.drop('trange', axis = 1)\n",
    "\n",
    "#print(new_split[0])\n",
    "# stacked_df['trange_min'] = new_split.iloc[0][0]\n",
    "# stacked_df['trange_max'] = new_split.iloc[0][2]\n",
    "# stacked_df.head()"
   ]
  },
  {
   "cell_type": "code",
   "execution_count": null,
   "id": "7f607914-ce0d-4a95-9e52-6e510538e57f",
   "metadata": {
    "tags": []
   },
   "outputs": [],
   "source": [
    "new_df.head()"
   ]
  },
  {
   "cell_type": "markdown",
   "id": "54856c0c-faa2-48ea-9548-509f94129b42",
   "metadata": {},
   "source": [
    "## 2. Exploration and visualization\n",
    "On average, how much has the minimum temperature in a zip code changed from 2012 to 2023?\n",
    "\n",
    "Merge together the combined plant hardiness dataset and the zipcode dataset by zipcode. This will give us more informtaion in the plant hardiness dataset, such as the latitude and longitude for each zipcode.\n",
    "\n",
    "Create two scatter plot where the x axis is the longitude, the y axis is the latitude, the color is based on the minimum temperature in 2012 for one and 2023 for the other. Only look at longitude < -60.\n",
    "\n",
    "Now create a single scatter plot where you look at the difference between the minimum temperature in 2012 and 2023. Only look at longitude < -60. Color any zipcodes where you do not have information from both years in grey.\n",
    "\n",
    "Create a bar plot showing the top 10 states where the average minimum temperature increased the most. Label your axes appropriately."
   ]
  },
  {
   "cell_type": "code",
   "execution_count": null,
   "id": "e16a3bed-55f7-4e5f-ad9a-f6a210248c9e",
   "metadata": {
    "tags": []
   },
   "outputs": [],
   "source": [
    "minimum_temp = new_df.groupby('year').agg({'trange_min': ['mean']})\n",
    "print(minimum_temp)"
   ]
  },
  {
   "cell_type": "code",
   "execution_count": null,
   "id": "9544e0e7-25d5-47f9-9f54-15b856220b56",
   "metadata": {
    "tags": []
   },
   "outputs": [],
   "source": [
    "zipcodes =zipcodes.rename(columns = {'zip':'zipcode'}) \n",
    "zipcodes['zipcode'] = pd.to_numeric(zipcodes['zipcode'])\n",
    "new_df['zipcode'] = pd.to_numeric(new_df['zipcode'])"
   ]
  },
  {
   "cell_type": "code",
   "execution_count": null,
   "id": "1babd236-32dd-4c1c-9465-59e93f9fa2b2",
   "metadata": {
    "tags": []
   },
   "outputs": [],
   "source": [
    "# merged_df = pd.merge(df, site_data, on = 'site', how = 'inner')\n",
    "# merged_df.head()\n",
    "\n",
    "\n",
    "full_df = pd.merge(new_df, zipcodes, on = 'zipcode', how = 'inner')\n",
    "print(full_df)"
   ]
  },
  {
   "cell_type": "code",
   "execution_count": null,
   "id": "76fbf4a4-c3f3-44e6-b3c7-2ed35fca5999",
   "metadata": {
    "tags": []
   },
   "outputs": [],
   "source": [
    "full_df = full_df[full_df['longitude'] < -60]\n",
    "\n",
    "ax1 = sns.scatterplot(data = full_df, x = 'longitude', y = 'latitude', hue = 'trange_min')"
   ]
  }
 ],
 "metadata": {
  "kernelspec": {
   "display_name": "Python 3.10.0",
   "language": "python",
   "name": "python3.10.0"
  },
  "language_info": {
   "codemirror_mode": {
    "name": "ipython",
    "version": 3
   },
   "file_extension": ".py",
   "mimetype": "text/x-python",
   "name": "python",
   "nbconvert_exporter": "python",
   "pygments_lexer": "ipython3",
   "version": "3.10.0"
  }
 },
 "nbformat": 4,
 "nbformat_minor": 5
}
