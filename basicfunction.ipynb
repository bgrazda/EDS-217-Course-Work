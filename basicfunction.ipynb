{
 "cells": [
  {
   "cell_type": "code",
   "execution_count": null,
   "id": "6e22160e-ddd1-4ba8-bcdb-2da78e82a749",
   "metadata": {
    "tags": []
   },
   "outputs": [],
   "source": [
    "# Defining a function is simple:\n",
    "\n",
    "def my_function(x):\n",
    "    #square x and return it\n",
    "    return x*x\n",
    "    #This is all function code.\n",
    "    "
   ]
  },
  {
   "cell_type": "code",
   "execution_count": null,
   "id": "8d4bf506-8a1c-4c37-93f3-732be3d1112a",
   "metadata": {
    "tags": []
   },
   "outputs": [],
   "source": [
    "my_function(10)"
   ]
  }
 ],
 "metadata": {
  "kernelspec": {
   "display_name": "Python 3.10.0",
   "language": "python",
   "name": "python3.10.0"
  },
  "language_info": {
   "codemirror_mode": {
    "name": "ipython",
    "version": 3
   },
   "file_extension": ".py",
   "mimetype": "text/x-python",
   "name": "python",
   "nbconvert_exporter": "python",
   "pygments_lexer": "ipython3",
   "version": "3.10.0"
  }
 },
 "nbformat": 4,
 "nbformat_minor": 5
}
