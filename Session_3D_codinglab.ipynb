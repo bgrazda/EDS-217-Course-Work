{
 "cells": [
  {
   "cell_type": "code",
   "execution_count": null,
   "id": "768a896a-a4a0-4391-b33e-a4f650078b3c",
   "metadata": {
    "tags": []
   },
   "outputs": [],
   "source": [
    "import pandas as pd\n",
    "import numpy as np\n",
    "\n",
    "# Create a sample Series\n",
    "fruits = pd.Series(['apple', 'banana', 'cherry', 'date', 'elderberry'], name='Fruits')\n",
    "print(fruits)"
   ]
  },
  {
   "cell_type": "code",
   "execution_count": null,
   "id": "4f213126-a971-441a-82f8-0605e498d754",
   "metadata": {
    "tags": []
   },
   "outputs": [],
   "source": [
    "# Create a Series called 'prices' with the same index as 'fruits'\n",
    "# Use these prices: apple: $0.5, banana: $0.3, cherry: $1.0, date: $1.5, elderberry: $2.0\n",
    "prices = pd.Series([0.5, 0.3, 1.0, 1.5, 2.0], index = fruits)\n",
    "print(prices)"
   ]
  },
  {
   "cell_type": "code",
   "execution_count": null,
   "id": "270e6e3b-5397-4083-98a3-d910d9781872",
   "metadata": {
    "tags": []
   },
   "outputs": [],
   "source": [
    "# 1. Calculate the total price of all fruits\n",
    "prices.sum()\n",
    "# 2. Find the most expensive fruit\n",
    "prices.max()\n",
    "# 3. Apply a 10% discount to all fruits priced over $1.0\n",
    "for items in prices:\n",
    "    if items > 1:\n",
    "        items = items - items *.10\n",
    "    print(items)"
   ]
  },
  {
   "cell_type": "code",
   "execution_count": null,
   "id": "c1569dbe-7ca9-4807-9d9f-2551726fce2e",
   "metadata": {
    "tags": []
   },
   "outputs": [],
   "source": [
    "# 1. Calculate the average price of the fruits\n",
    "prices.mean()\n",
    "\n",
    "# 2. Count how many fruits cost less than $1.0\n",
    "count = 0\n",
    "for price in prices:\n",
    "    if price < 1:\n",
    "        count +=1\n",
    "print(count) \n",
    "\n",
    "# 3. Calculate the price range (difference between max and min prices)\n",
    "price_range = prices.max() - prices.min()\n",
    "\n",
    "print(price_range)"
   ]
  },
  {
   "cell_type": "code",
   "execution_count": null,
   "id": "e2886fcc-92e6-4589-ba73-82363f8503ab",
   "metadata": {
    "tags": []
   },
   "outputs": [],
   "source": [
    "# 1. Add 'fig' to both Series (price: $1.2)\n",
    "prices['fig'] = 1.2\n",
    "print(prices)\n",
    "fruits[5] = 'fig'\n",
    "print(fruits)\n",
    "# 2. Remove 'banana' from both Series\n",
    "fruits = fruits.drop(labels = [1])\n",
    "prices = prices.drop(labels = ['banana'])\n",
    "print(fruits)\n",
    "print(prices)\n",
    "\n"
   ]
  },
  {
   "cell_type": "code",
   "execution_count": null,
   "id": "fc2ce23d-ef26-4ac5-81d4-f4554c44fa67",
   "metadata": {
    "tags": []
   },
   "outputs": [],
   "source": [
    "# 3. Sort both Series alphabetically by fruit name\n",
    "\n",
    "fruits_sorted = fruits.sort_values()\n",
    "print(fruits_sorted)\n",
    "\n",
    "prices_sorted = prices.sort_values()\n",
    "print(prices_sorted)"
   ]
  }
 ],
 "metadata": {
  "kernelspec": {
   "display_name": "Python 3.10.0",
   "language": "python",
   "name": "python3.10.0"
  },
  "language_info": {
   "codemirror_mode": {
    "name": "ipython",
    "version": 3
   },
   "file_extension": ".py",
   "mimetype": "text/x-python",
   "name": "python",
   "nbconvert_exporter": "python",
   "pygments_lexer": "ipython3",
   "version": "3.10.0"
  }
 },
 "nbformat": 4,
 "nbformat_minor": 5
}
