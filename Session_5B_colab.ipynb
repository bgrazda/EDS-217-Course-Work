{
 "cells": [
  {
   "cell_type": "code",
   "execution_count": null,
   "id": "d8bd3db7-2980-4682-a045-861c9114c027",
   "metadata": {
    "tags": []
   },
   "outputs": [],
   "source": [
    "import pandas as pd\n",
    "import numpy as np\n",
    "\n",
    "url = 'https://bit.ly/messy_csv'\n",
    "messy_df = pd.read_csv(url) \n",
    "messy_df.head()"
   ]
  },
  {
   "cell_type": "markdown",
   "id": "5b5fc860-f109-48ca-95d1-b429378c84a6",
   "metadata": {},
   "source": [
    "1. Removing duplicates"
   ]
  },
  {
   "cell_type": "code",
   "execution_count": null,
   "id": "913355a2-ebe0-4d76-b830-23b7a35e843c",
   "metadata": {
    "tags": []
   },
   "outputs": [],
   "source": [
    "messy_df = messy_df.drop_duplicates()\n",
    "messy_df.head()"
   ]
  },
  {
   "cell_type": "markdown",
   "id": "c5554dc3-fb6a-45fe-b497-5535e85b1ac8",
   "metadata": {},
   "source": [
    "2. Handling missing values (either fill or dropna to remove rows with missing data)"
   ]
  },
  {
   "cell_type": "code",
   "execution_count": null,
   "id": "07dd8393-0501-478d-a4b7-c69c241804ec",
   "metadata": {
    "tags": []
   },
   "outputs": [],
   "source": [
    "cleaned = messy_df.copy().dropna()\n",
    "cleaned.head()"
   ]
  },
  {
   "cell_type": "markdown",
   "id": "11b59f27-1157-4036-8fbe-561ca0571def",
   "metadata": {},
   "source": [
    "3. Ensuring consistent data types (dates, strings)"
   ]
  },
  {
   "cell_type": "code",
   "execution_count": null,
   "id": "cc1bcd2e-4d53-4b33-9718-5464906decaf",
   "metadata": {
    "tags": []
   },
   "outputs": [],
   "source": [
    "\n",
    "\n",
    "cleaned['site'] = cleaned['site'].astype('string')\n",
    "\n",
    "cleaned['temperature_c'] = cleaned['temperature_c'].astype(float)\n",
    "cleaned['pH'] = cleaned['pH'].astype('float')\n",
    "cleaned['dissolved_oxygen_mg_L'] = cleaned['dissolved_oxygen_mg_L'].astype(float)\n",
    "cleaned['collection date'] = pd.to_datetime(new_cleaned['collection date'])\n",
    "\n",
    "print(cleaned['temperature_c'].apply(type))\n",
    "print(cleaned['pH'].apply(type))\n",
    "print(cleaned['dissolved_oxygen_mg_L'].apply(type))\n",
    "print(cleaned['site'].apply(type))"
   ]
  },
  {
   "cell_type": "markdown",
   "id": "8cd210f9-8318-4b20-a0a9-ddfce6b28c02",
   "metadata": {},
   "source": [
    "4. Formatting the ‘site’ column for consistency"
   ]
  },
  {
   "cell_type": "code",
   "execution_count": null,
   "id": "f9f560ad-74eb-4738-a0a6-d7cc6094f454",
   "metadata": {
    "tags": []
   },
   "outputs": [],
   "source": [
    "cleaned.loc[0, 'site'] = \"site_a\"\n",
    "cleaned.loc[2, 'site'] = 'site_c'\n",
    "cleaned.head()"
   ]
  },
  {
   "cell_type": "markdown",
   "id": "4c6d838e-57f2-43d9-92e2-ac6425abd49d",
   "metadata": {},
   "source": [
    "5. Making sure all column names are lower case, without whitespace."
   ]
  },
  {
   "cell_type": "code",
   "execution_count": null,
   "id": "1d6752f4-69ee-4d3d-9f9c-2adb810543d3",
   "metadata": {
    "tags": []
   },
   "outputs": [],
   "source": [
    "cleaned = [col.lower().replace(' ', '_') for col in cleaned]\n",
    "print(cleaned)"
   ]
  },
  {
   "cell_type": "code",
   "execution_count": null,
   "id": "16c7c58a-ab7c-4051-b375-d2d0f5d3de05",
   "metadata": {},
   "outputs": [],
   "source": []
  }
 ],
 "metadata": {
  "kernelspec": {
   "display_name": "Python 3.10.0",
   "language": "python",
   "name": "python3.10.0"
  },
  "language_info": {
   "codemirror_mode": {
    "name": "ipython",
    "version": 3
   },
   "file_extension": ".py",
   "mimetype": "text/x-python",
   "name": "python",
   "nbconvert_exporter": "python",
   "pygments_lexer": "ipython3",
   "version": "3.10.0"
  }
 },
 "nbformat": 4,
 "nbformat_minor": 5
}
