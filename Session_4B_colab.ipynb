{
 "cells": [
  {
   "cell_type": "code",
   "execution_count": null,
   "id": "81f318a2-100b-4c2e-b978-cc92da9b23e1",
   "metadata": {
    "tags": []
   },
   "outputs": [],
   "source": [
    "import pandas as pd\n",
    "import numpy as np\n",
    "\n",
    "# Load the dataset\n",
    "url = \"https://raw.githubusercontent.com/rfordatascience/tidytuesday/master/data/2019/2019-09-17/national_parks.csv\"\n",
    "parks_df = pd.read_csv(url)"
   ]
  },
  {
   "cell_type": "markdown",
   "id": "47f198ae-1dcb-4fd8-8d11-bc8cc36f4ebe",
   "metadata": {},
   "source": [
    "### Task 1: Data exploration and cleaning"
   ]
  },
  {
   "cell_type": "code",
   "execution_count": null,
   "id": "903ca429-3e42-42ae-b002-61a81a1115b4",
   "metadata": {
    "tags": []
   },
   "outputs": [],
   "source": [
    "#How many rows and columns does the DataFrame have?\n",
    "print(parks_df.shape)\n",
    "\n",
    "#What are the column names?\n",
    "cols = list(parks_df.columns)\n",
    "print(cols)\n",
    "\n",
    "#What data types are used in each column?\n",
    "print(parks_df.dtypes)\n",
    "\n",
    "#Are there any missing values in the DataFrame?\n",
    "parks_df.isnull().sum()\n",
    "\n",
    "#Remove the rows where year is Total (these are summary rows we don’t need for our analysis).\n",
    "parks_df = parks_df[parks_df['year'] != 'Total']\n",
    "\n",
    "#Convert the year column to numeric type.\n",
    "pd.to_numeric(parks_df['year'])"
   ]
  },
  {
   "cell_type": "markdown",
   "id": "a330133e-2253-4e31-b067-780845d55a51",
   "metadata": {},
   "source": [
    "## Step 2: Filter!"
   ]
  },
  {
   "cell_type": "code",
   "execution_count": null,
   "id": "ce5087cb-2054-4994-b4af-7a6fdfd4a4b8",
   "metadata": {
    "tags": []
   },
   "outputs": [],
   "source": [
    "#Create a new DataFrame containing only data for the years 2000-2015 and only data for National Parks (unit_type is National Park)\n",
    "nat_park = parks_df[\n",
    "    (parks_df['year'] >= '2000') &\n",
    "    (parks_df['year'] <= '2015') &\n",
    "    (parks_df['unit_type'] == 'National Park')\n",
    "]"
   ]
  },
  {
   "cell_type": "code",
   "execution_count": null,
   "id": "be968756-8baf-4961-871b-6bc54692f2bb",
   "metadata": {
    "tags": []
   },
   "outputs": [],
   "source": [
    "#Find the total number of visitors across all National Parks for each year from 2000-2015.\n",
    "nat_visitors = nat_park['visitors'].sum()"
   ]
  },
  {
   "cell_type": "code",
   "execution_count": null,
   "id": "fee5603e-07b1-46a0-9598-50fefc32480f",
   "metadata": {
    "tags": []
   },
   "outputs": [],
   "source": [
    "#Identify the top 5 most visited National Parks (based on total visitors) during the 2000-2015 period.\n",
    "grouped_parks = nat_park.groupby('parkname').sum('year')\n",
    "\n",
    "print(grouped_parks.head())\n",
    "grouped_parks['visitors'].sort_values(ascending = False).head(5)"
   ]
  }
 ],
 "metadata": {
  "kernelspec": {
   "display_name": "Python 3.10.0",
   "language": "python",
   "name": "python3.10.0"
  },
  "language_info": {
   "codemirror_mode": {
    "name": "ipython",
    "version": 3
   },
   "file_extension": ".py",
   "mimetype": "text/x-python",
   "name": "python",
   "nbconvert_exporter": "python",
   "pygments_lexer": "ipython3",
   "version": "3.10.0"
  }
 },
 "nbformat": 4,
 "nbformat_minor": 5
}
