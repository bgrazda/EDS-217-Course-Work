{
 "cells": [
  {
   "cell_type": "code",
   "execution_count": null,
   "id": "d5f8f690-1da4-487a-94d5-19b42e7a8c51",
   "metadata": {
    "tags": []
   },
   "outputs": [],
   "source": [
    "import pandas as pd\n",
    "import matplotlib.pyplot as plt\n",
    "import seaborn as sns\n",
    "\n",
    "# Load the data\n",
    "url = \"https://github.com/TheEconomist/banana-index-data/releases/download/1.0/bananaindex.csv\"\n",
    "df = pd.read_csv(url)"
   ]
  },
  {
   "cell_type": "code",
   "execution_count": null,
   "id": "39c94783-0656-4efb-9e41-f9bc8b1460d8",
   "metadata": {
    "tags": []
   },
   "outputs": [],
   "source": [
    "# Display the first few rows:\n",
    "print(df.head())"
   ]
  },
  {
   "cell_type": "code",
   "execution_count": null,
   "id": "4ccaca07-a28c-4537-ba51-2377be27a942",
   "metadata": {
    "tags": []
   },
   "outputs": [],
   "source": [
    "# Display the dataframe info:\n",
    "print(df.info())"
   ]
  },
  {
   "cell_type": "markdown",
   "id": "a9e1fd98-b43a-4a69-999d-5b1320adb2cd",
   "metadata": {},
   "source": [
    "Set the index of the DataFrame to be the ‘entity’ column."
   ]
  },
  {
   "cell_type": "code",
   "execution_count": null,
   "id": "fcca83b8-4bc5-4f70-9c96-5d9d86747ab2",
   "metadata": {
    "tags": []
   },
   "outputs": [],
   "source": [
    "df = df.set_index('entity')"
   ]
  },
  {
   "cell_type": "code",
   "execution_count": null,
   "id": "f2753a47-32ed-4942-b10c-9171b0b2d29f",
   "metadata": {
    "tags": []
   },
   "outputs": [],
   "source": [
    "df.head()"
   ]
  },
  {
   "cell_type": "markdown",
   "id": "966ccd84-45ef-4184-ae9f-3e02eef8eb5c",
   "metadata": {
    "tags": []
   },
   "source": [
    "Remove the ‘year’, ‘Banana values’, ‘type’, ‘Unnamed: 16’, and ‘Chart?’ columns."
   ]
  },
  {
   "cell_type": "code",
   "execution_count": null,
   "id": "b7f6a5a9-4b9f-4931-9db8-ea33743f8291",
   "metadata": {
    "tags": []
   },
   "outputs": [],
   "source": [
    "df = df.drop(columns=['year', 'Banana values', 'Unnamed: 16', 'Chart?'])\n",
    "df.info()"
   ]
  },
  {
   "cell_type": "markdown",
   "id": "10772d5d-8694-45d4-bf62-7db21aaff517",
   "metadata": {},
   "source": [
    "Display the first few rows of the modified DataFrame."
   ]
  },
  {
   "cell_type": "code",
   "execution_count": null,
   "id": "6ba821b0-9d7c-4017-b46b-7147f26af4f2",
   "metadata": {
    "tags": []
   },
   "outputs": [],
   "source": [
    "df.head()"
   ]
  },
  {
   "cell_type": "markdown",
   "id": "b3582e1d-224e-40e4-912a-8c3742c57213",
   "metadata": {
    "tags": []
   },
   "source": [
    "For each of the pre-computed banana score columns (kg, calories, and protein), show the 10 highest-scoring food products."
   ]
  },
  {
   "cell_type": "code",
   "execution_count": null,
   "id": "195b5f3c-8ef1-4d11-bfae-5f665f1775f5",
   "metadata": {
    "tags": []
   },
   "outputs": [],
   "source": [
    "def top_banana_scores(df, column):\n",
    "    top = df.nlargest(10, column)\n",
    "    \"\"\" Return the top 10 values of a column \"\"\"\n",
    "    return top[column]"
   ]
  },
  {
   "cell_type": "code",
   "execution_count": null,
   "id": "5d0cbe4a-7a74-44c3-a13b-5a13e0f900a9",
   "metadata": {
    "tags": []
   },
   "outputs": [],
   "source": [
    "top_banana_scores(df, 'Bananas index (kg)')\n",
    "top_banana_scores(df, 'Bananas index (1000 kcalories)')\n",
    "top_banana_scores(df, 'Bananas index (100g protein)')"
   ]
  },
  {
   "cell_type": "markdown",
   "id": "7501e993-9cf6-4e2d-8628-416174ea1c52",
   "metadata": {
    "tags": []
   },
   "source": [
    "Use your function to display the results for each of the three Banana index columns."
   ]
  },
  {
   "cell_type": "code",
   "execution_count": null,
   "id": "d7320cd7-bb25-4b8b-b40a-7c66db1dede7",
   "metadata": {
    "tags": []
   },
   "outputs": [],
   "source": [
    "banana_cols = ['Bananas index (kg)' , \n",
    "               'Bananas index (1000 kcalories)',\n",
    "               'Bananas index (100g protein)'] \n",
    "\n",
    "for col in banana_cols:\n",
    "    print(top_banana_scores(df, col))\n",
    "    "
   ]
  },
  {
   "cell_type": "markdown",
   "id": "7e89504e-52f1-4926-a90c-eaebaecd7464",
   "metadata": {
    "tags": []
   },
   "source": [
    "Identify which foods, if any, appear in the top 10 for all three banana score lists (kg, calories, and protein)."
   ]
  },
  {
   "cell_type": "code",
   "execution_count": null,
   "id": "8907fe8a-b4de-4005-9cd8-7028701a2f88",
   "metadata": {
    "tags": []
   },
   "outputs": [],
   "source": [
    "top_10_1000kcg = set(top_banana_scores(df, 'Bananas index (1000 kcalories)').index)\n",
    "top_10_kg  = set(top_banana_scores(df, 'Bananas index (kg)').index)\n",
    "top_10_protein  = set(top_banana_scores(df, 'Bananas index (100g protein)').index)\n",
    "\n",
    "top_bananas_overall = set.intersection(top_10_1000kcg, top_10_kg,top_10_protein)\n",
    "print(top_bananas_overall)"
   ]
  },
  {
   "cell_type": "markdown",
   "id": "d960d51b-347c-4420-b7f7-0afb51523491",
   "metadata": {},
   "source": [
    "Create a new column named ‘Bananas index (land use 1000 kcal)’, calculating that food item’s use of land for every 1,000 kcal in comparison to a banana."
   ]
  },
  {
   "cell_type": "code",
   "execution_count": null,
   "id": "ea12d97e-6864-4420-b58f-67d740908801",
   "metadata": {
    "tags": []
   },
   "outputs": [],
   "source": [
    "bananas_land_use = df.loc['Bananas', 'land_use_1000kcal']\n",
    "print(bananas_land_use)\n",
    "df['Bananas index (land use 1000 kcal)'] = df['land_use_1000kcal']/ bananas_land_use\n",
    "\n",
    "df.head()"
   ]
  },
  {
   "cell_type": "code",
   "execution_count": null,
   "id": "33837d07-5f31-48cd-80c6-fc2b94dc8a86",
   "metadata": {
    "tags": []
   },
   "outputs": [],
   "source": [
    "#Display the 10 foods with the highest land use score."
   ]
  },
  {
   "cell_type": "code",
   "execution_count": null,
   "id": "ee683436-8a7d-4c15-9b32-37794fb8f5da",
   "metadata": {
    "tags": []
   },
   "outputs": [],
   "source": [
    "highest_land_use = df.sort_values('land_use_kg',ascending = False)['land_use_kg'].head(10)\n",
    "print(highest_land_use)"
   ]
  },
  {
   "cell_type": "code",
   "execution_count": null,
   "id": "2b415264-67c2-471f-9fab-dbe6e463a167",
   "metadata": {},
   "outputs": [],
   "source": [
    "#Compare this list with the previous top 10 lists. Are there any common foods?"
   ]
  },
  {
   "cell_type": "code",
   "execution_count": null,
   "id": "9b64fff8-ec76-471d-b3a9-e0665ea0f591",
   "metadata": {
    "tags": []
   },
   "outputs": [],
   "source": [
    "# top_10_1000kcg = set(top_banana_scores(df, 'Bananas index (1000 kcalories)').index)\n",
    "# top_10_kg  = set(top_banana_scores(df, 'Bananas index (kg)').index)\n",
    "# top_10_protein  = set(top_banana_scores(df, 'Bananas index (100g protein)').index)\n",
    "\n",
    "common_foods = set.intersection(top_10_1000kcg, top_10_kg,top_10_protein, highest_land_use)\n",
    "print(top_bananas_overall)"
   ]
  },
  {
   "cell_type": "code",
   "execution_count": null,
   "id": "8d9a442e-c567-4ddd-a0ae-82082bce9852",
   "metadata": {
    "tags": []
   },
   "outputs": [],
   "source": [
    "#Identify the type of cheese with the highest banana score per 1,000 kcal. How does it compare to other cheeses in the dataset?"
   ]
  },
  {
   "cell_type": "code",
   "execution_count": null,
   "id": "8aa5053c-fbd7-4aac-85f7-42baab65557c",
   "metadata": {
    "tags": []
   },
   "outputs": [],
   "source": [
    "highest_cheese = df.filter(like = 'cheese', axis = 0)\n",
    "\n",
    "\n",
    "[highest_cheese['Bananas index (1000 kcalories)'].max()]\n"
   ]
  }
 ],
 "metadata": {
  "kernelspec": {
   "display_name": "Python 3.10.0",
   "language": "python",
   "name": "python3.10.0"
  },
  "language_info": {
   "codemirror_mode": {
    "name": "ipython",
    "version": 3
   },
   "file_extension": ".py",
   "mimetype": "text/x-python",
   "name": "python",
   "nbconvert_exporter": "python",
   "pygments_lexer": "ipython3",
   "version": "3.10.0"
  }
 },
 "nbformat": 4,
 "nbformat_minor": 5
}
