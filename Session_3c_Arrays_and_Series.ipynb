{
 "cells": [
  {
   "cell_type": "markdown",
   "id": "c7d036cd-889e-4f97-a706-04e04af3b19f",
   "metadata": {},
   "source": [
    "# Day 3: Session C - [Arrays and Series]\n",
    "\n",
    "[https://eds-217-essential-python.github.io/course-materials/interactive-sessions/3c_arrays_and_series.html]\n",
    "\n",
    "Date: [08/05/24]"
   ]
  },
  {
   "cell_type": "code",
   "execution_count": null,
   "id": "2b8611b5-055b-4578-980d-0b1d98377b6b",
   "metadata": {
    "tags": []
   },
   "outputs": [],
   "source": [
    "import numpy as np\n",
    "import pandas as pd"
   ]
  },
  {
   "cell_type": "markdown",
   "id": "a40f2c46-0f37-445c-a95d-5402b19e8143",
   "metadata": {
    "tags": []
   },
   "source": [
    "### Lists and Arrays"
   ]
  },
  {
   "cell_type": "code",
   "execution_count": null,
   "id": "cfe28fde-2fc9-4d69-8cad-c604a19a9a95",
   "metadata": {
    "tags": []
   },
   "outputs": [],
   "source": [
    "# Create a 1-D array (which is a flat list)\n",
    "my_list = [1, 2, 3, 4, 5]\n",
    "my_array = np.array(my_list)\n",
    "print(my_array)\n",
    "print(my_list)\n",
    "print(type(my_array))"
   ]
  },
  {
   "cell_type": "code",
   "execution_count": null,
   "id": "c6b798a1-9092-49b2-b757-9a47bdff4412",
   "metadata": {
    "tags": []
   },
   "outputs": [],
   "source": [
    "# Create a 2-d array \n",
    "my_lists = [[1,2,3],[4, 5, 6]]\n",
    "my_arrays = np.array(my_lists)\n",
    "print(my_arrays)\n",
    "print(type(my_arrays))"
   ]
  },
  {
   "cell_type": "markdown",
   "id": "38358e20-67af-40ba-8368-13cf507e0228",
   "metadata": {},
   "source": [
    "## Basic Array Operations\n",
    "\n",
    "`min` `max` `mean`, etc"
   ]
  },
  {
   "cell_type": "code",
   "execution_count": null,
   "id": "8c9f18ff",
   "metadata": {
    "tags": []
   },
   "outputs": [],
   "source": [
    "# Global min, max are still around ...\n",
    "min(['3', '4', '5'])\n",
    "\n",
    "# But arrays use their own methods for basic operation. \n",
    "print(f\" np.min: {np.min(my_array)}\")\n",
    "\n",
    "# Get the maximum\n",
    "print(f\" np.max: {np.max(my_array)}\")\n",
    "\n",
    "#get the mean\n",
    "print(f\" np.mean: {np.mean(my_array)}\")\n",
    "\n",
    "#get the standard deviation\n",
    "print(f\" np.std: {np.std(my_array):.2f}\")\n",
    "\n",
    "# Array transformations: \n",
    "# multiply every element in an array by 2:\n",
    "print(my_array * 2) #different output to multiply array than it is to multiply lists; more common to multiply arrays in data science\n",
    "\n",
    "# add 2 to every element in an array:\n",
    "print(my_array + 2)"
   ]
  },
  {
   "cell_type": "markdown",
   "id": "e4e29b13-f4a0-4deb-8919-587e8471e0c8",
   "metadata": {},
   "source": [
    "## Using Pandas Series\n",
    "\n",
    "A series is a 1-dimensional labelled array. \n",
    "\n",
    "### Creating a Series\n",
    "We create them using the pd.Series() command."
   ]
  },
  {
   "cell_type": "code",
   "execution_count": null,
   "id": "f4c94de6-cc6e-4d05-89bf-6ef87b6491a4",
   "metadata": {
    "tags": []
   },
   "outputs": [],
   "source": [
    "# Create a series from a list:\n",
    "s1 = pd.Series([1,2,3,4,5])\n",
    "print(s1)\n",
    "\n",
    "s2 = pd.Series([10, 20, 30, 40, 50], index = ['a', 'b', 'c', 'd', 'e'])\n",
    "print(s2)"
   ]
  },
  {
   "cell_type": "code",
   "execution_count": null,
   "id": "ea5d3a65-4a57-4d7d-b734-8e20adb24436",
   "metadata": {
    "tags": []
   },
   "outputs": [],
   "source": [
    "s2['a']"
   ]
  },
  {
   "cell_type": "markdown",
   "id": "018a9b83-1ed1-4fd2-b5e7-382bed3c23cf",
   "metadata": {},
   "source": [
    "### Basic Series Operations\n",
    "#### Accessing and Slicing"
   ]
  },
  {
   "cell_type": "code",
   "execution_count": null,
   "id": "dc9c9563-c0db-4c01-bfcd-934506cde40b",
   "metadata": {
    "tags": []
   },
   "outputs": [],
   "source": [
    "# Access based on index:\n",
    "print(\"The value at index `c`:\", s2['c'])\n",
    "\n",
    "# Access based on location (like a list index position):\n",
    "print(\"The value of the first three elements:\\n\", s2[:3])"
   ]
  },
  {
   "cell_type": "markdown",
   "id": "1715f54d-5952-4603-98b9-cbc113485c9a",
   "metadata": {},
   "source": [
    "### Arithmetic and Statistics"
   ]
  },
  {
   "cell_type": "code",
   "execution_count": null,
   "id": "205b2ecf-f70d-4ef5-87ff-9422c1a4b3b4",
   "metadata": {
    "tags": []
   },
   "outputs": [],
   "source": [
    "# Add 5 to every element:\n",
    "print(s2 + 5)"
   ]
  },
  {
   "cell_type": "code",
   "execution_count": null,
   "id": "da56ba6c-b134-4f1e-89bd-fc44bb4e4418",
   "metadata": {
    "tags": []
   },
   "outputs": [],
   "source": [
    "# Calculate the mean: \n",
    "print(s2.mean())\n",
    "\n",
    "# Calculate teh standard deviation:\n",
    "print(s2.std())\n",
    "\n",
    "# Calculate the median:\n",
    "print(s2.median())"
   ]
  },
  {
   "cell_type": "code",
   "execution_count": null,
   "id": "f8ceefd7-a09e-475e-89d3-0c728ed49012",
   "metadata": {},
   "outputs": [],
   "source": []
  }
 ],
 "metadata": {
  "kernelspec": {
   "display_name": "Python 3.10.0",
   "language": "python",
   "name": "python3.10.0"
  },
  "language_info": {
   "codemirror_mode": {
    "name": "ipython",
    "version": 3
   },
   "file_extension": ".py",
   "mimetype": "text/x-python",
   "name": "python",
   "nbconvert_exporter": "python",
   "pygments_lexer": "ipython3",
   "version": "3.10.0"
  }
 },
 "nbformat": 4,
 "nbformat_minor": 5
}
