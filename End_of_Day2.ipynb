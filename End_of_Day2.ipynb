{
 "cells": [
  {
   "cell_type": "code",
   "execution_count": null,
   "id": "6589c0e0-4402-4199-a59b-901c165e29bc",
   "metadata": {
    "tags": []
   },
   "outputs": [],
   "source": [
    "import random"
   ]
  },
  {
   "cell_type": "code",
   "execution_count": null,
   "id": "61b72dbe-05c4-4f90-95e1-15c211742151",
   "metadata": {
    "tags": []
   },
   "outputs": [],
   "source": [
    "classmates = ['Liz', 'Amanda', 'Stephen', 'Matteo']"
   ]
  },
  {
   "cell_type": "code",
   "execution_count": null,
   "id": "57bfe0f8-2d2f-4c49-802e-af2c7d509079",
   "metadata": {
    "tags": []
   },
   "outputs": [],
   "source": [
    "class_dict = {\n",
    "    'Liz': { 'favorite_color': 'green', 'num_pets' : 0, 'snack' : 'pretzel'},\n",
    "    'Amanda': {'favorite_color' : 'green', 'num_pets' : 3, 'snack' : 'cheese'},\n",
    "    'Stephen': {'favorite_color':'green', 'num_pets' : 10, 'snack' : 'peanut butter'},\n",
    "    'Matteo': {'favorite_color':'green', 'num_pets' : 50, 'snacks' :'cheese rockets'}\n",
    "}\n",
    "print(class_dict)"
   ]
  },
  {
   "cell_type": "code",
   "execution_count": null,
   "id": "bbb159d7-6eb6-4223-a752-599325f57877",
   "metadata": {
    "tags": []
   },
   "outputs": [],
   "source": [
    "classmates.append(\"Rachel\")\n",
    "print(classmates)"
   ]
  },
  {
   "cell_type": "code",
   "execution_count": null,
   "id": "c8a5ef56-f280-47ad-8076-dbaaa64b4f1c",
   "metadata": {
    "tags": []
   },
   "outputs": [],
   "source": [
    "classmates.remove('Amanda')\n",
    "print(classmates)"
   ]
  },
  {
   "cell_type": "code",
   "execution_count": null,
   "id": "cee6e8fd-7cd1-4334-aece-5c811bd3f3c6",
   "metadata": {
    "tags": []
   },
   "outputs": [],
   "source": [
    "classmates.sort()\n",
    "print(classmates)"
   ]
  },
  {
   "cell_type": "code",
   "execution_count": null,
   "id": "3aabd8db-0fa1-4320-aeb8-c27d659ae2d5",
   "metadata": {
    "tags": []
   },
   "outputs": [],
   "source": [
    "class_dict['Liz']['fav_study_spot'] = 'beach'\n",
    "class_dict['Matteo']['fav_study_spot'] = 'ur moms house'\n",
    "class_dict['Amanda']['fav_study_spot'] = 'coffee shop'\n",
    "class_dict['Stephen']['fav_study_spot'] = 'trash can'\n",
    "\n",
    "class_dict['Liz']['num_pets'] = 1\n",
    "print(class_dict)"
   ]
  },
  {
   "cell_type": "code",
   "execution_count": null,
   "id": "9e27f483-8f78-436a-bc28-25b46f60cf89",
   "metadata": {
    "tags": []
   },
   "outputs": [],
   "source": [
    "fav_colors = [class_dict['Liz']['favorite_color'], class_dict['Amanda']['favorite_color'], class_dict['Stephen']['favorite_color'], class_dict['Matteo']['favorite_color']]\n",
    "print(fav_colors)"
   ]
  },
  {
   "cell_type": "code",
   "execution_count": null,
   "id": "55d87f79-96d0-490d-be02-bdf5aed97ed2",
   "metadata": {
    "tags": []
   },
   "outputs": [],
   "source": [
    "\n",
    "for key, value in class_dict.items():\n",
    "     print(class_dict[key]['favorite_color'])\n",
    "    "
   ]
  },
  {
   "cell_type": "code",
   "execution_count": null,
   "id": "b5f70e49-b842-4b8f-a2ee-b82637cb7f04",
   "metadata": {
    "tags": []
   },
   "outputs": [],
   "source": [
    "import random\n",
    "\n",
    "# Sample dictionary\n",
    "fruit_colors = {\n",
    "    \"apple\": \"red\",\n",
    "    \"banana\": \"yellow\",\n",
    "    \"grape\": \"purple\",\n",
    "    \"kiwi\": \"brown\",\n",
    "    \"orange\": \"orange\"\n",
    "}\n",
    "\n",
    "# Select a single random key-value pair\n",
    "random_fruit, random_color = random.choice(list(fruit_colors.items()))\n",
    "print(f\"Randomly selected fruit: {random_fruit}\")\n",
    "print(f\"Its color: {random_color}\")\n",
    "\n",
    "# To get just a random key:\n",
    "random_fruit = random.choice(list(fruit_colors.keys()))\n",
    "print(f\"Another randomly selected fruit: {random_fruit}\")\n",
    "\n",
    "# To select multiple random items:\n",
    "num_selections = 3\n",
    "random_fruits = random.sample(list(fruit_colors.keys()), num_selections)\n",
    "print(f\"Randomly selected {num_selections} fruits: {random_fruits}\")"
   ]
  },
  {
   "cell_type": "code",
   "execution_count": null,
   "id": "687a7963-931c-4135-b404-0dacc886b8aa",
   "metadata": {},
   "outputs": [],
   "source": []
  }
 ],
 "metadata": {
  "kernelspec": {
   "display_name": "Python 3.10.0",
   "language": "python",
   "name": "python3.10.0"
  },
  "language_info": {
   "codemirror_mode": {
    "name": "ipython",
    "version": 3
   },
   "file_extension": ".py",
   "mimetype": "text/x-python",
   "name": "python",
   "nbconvert_exporter": "python",
   "pygments_lexer": "ipython3",
   "version": "3.10.0"
  }
 },
 "nbformat": 4,
 "nbformat_minor": 5
}
