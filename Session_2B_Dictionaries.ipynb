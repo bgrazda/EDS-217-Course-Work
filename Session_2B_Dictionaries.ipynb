{
 "cells": [
  {
   "cell_type": "markdown",
   "id": "6f725c17-151f-495e-b27a-ef96d6eca874",
   "metadata": {},
   "source": [
    "# Day 2: Session B - Dictionaries\n",
    "\n",
    "[Link to session webpage](https://eds-217-essential-python.github.io/course-materials/interactive-sessions/2b_dictionaries.html)\n",
    "\n",
    "Date: 09/04/2024"
   ]
  },
  {
   "cell_type": "code",
   "execution_count": null,
   "id": "1b3689af-bd5a-4fd9-8447-b3bd75829567",
   "metadata": {
    "tags": []
   },
   "outputs": [],
   "source": [
    "# Define a dictionary with species data containing latin names and corresponding common names.\n",
    "species_dict = {\n",
    "    \"P ochraceus\": \"Ochre sea star\",\n",
    "    \"M californianus\": \"California mussel\",\n",
    "    \"H rufescens\": \"Red abalone\"\n",
    "}"
   ]
  },
  {
   "cell_type": "code",
   "execution_count": null,
   "id": "3c7873a3-715a-4ac6-bda6-6861f467c027",
   "metadata": {
    "tags": []
   },
   "outputs": [],
   "source": [
    "species_dict['M californianus']"
   ]
  },
  {
   "cell_type": "code",
   "execution_count": null,
   "id": "7ae707f2-cddd-4616-ba48-fda8fc604d1b",
   "metadata": {
    "tags": []
   },
   "outputs": [],
   "source": [
    "# adding a new entry for leather star\n",
    "species_dict[\"D imbricata\"] = \"Leather star\""
   ]
  },
  {
   "cell_type": "code",
   "execution_count": null,
   "id": "1e7b33ab-45e5-417c-850e-620cb377852d",
   "metadata": {
    "tags": []
   },
   "outputs": [],
   "source": [
    "species_dict[\"D imbricata\"] = \"Leather star\""
   ]
  },
  {
   "cell_type": "code",
   "execution_count": null,
   "id": "797e930b-5b54-4189-93dc-480b830408c7",
   "metadata": {
    "tags": []
   },
   "outputs": [],
   "source": [
    "#make a list of all the keys in a dictionary\n",
    "list(species_dict.keys())"
   ]
  },
  {
   "cell_type": "code",
   "execution_count": null,
   "id": "dfdb63bb-ba6c-47c8-a933-6f9d3c09f9e6",
   "metadata": {
    "tags": []
   },
   "outputs": [],
   "source": [
    "list(species_dict.values())"
   ]
  },
  {
   "cell_type": "code",
   "execution_count": null,
   "id": "0950cd06-ccb8-441f-9be8-d38533a739c2",
   "metadata": {
    "tags": []
   },
   "outputs": [],
   "source": [
    "# make a list of tubles of key, value pairs:\n",
    "species_dict.items()"
   ]
  },
  {
   "cell_type": "markdown",
   "id": "dbdf73bf-8b16-440b-92ca-8ed2a2c3af3c",
   "metadata": {},
   "source": [
    "\n",
    "## Looping through a dictionary\n",
    "\n",
    "Use a `for` loop to loop through a dictionary\n"
   ]
  },
  {
   "cell_type": "code",
   "execution_count": null,
   "id": "a2d060b8-18d9-4679-91e0-63fd40d7cb13",
   "metadata": {},
   "outputs": [],
   "source": [
    "for item in collection:\n",
    "    print(item)"
   ]
  },
  {
   "cell_type": "code",
   "execution_count": null,
   "id": "3b63d81f-04ab-477c-8115-2b18c987a3c7",
   "metadata": {
    "tags": []
   },
   "outputs": [],
   "source": [
    "# print each key in a dictionary:\n",
    "for value in list(species_dict.values()):\n",
    "    print(value)"
   ]
  },
  {
   "cell_type": "code",
   "execution_count": null,
   "id": "860ece96-1b91-469d-a963-768c7107fc5a",
   "metadata": {
    "tags": []
   },
   "outputs": [],
   "source": [
    "for item in list(species_dict.items()):\n",
    "    key, value = item\n",
    "    print(item)"
   ]
  },
  {
   "cell_type": "code",
   "execution_count": null,
   "id": "693f6d96-5075-497c-aeec-6b53c5acf66a",
   "metadata": {
    "tags": []
   },
   "outputs": [],
   "source": [
    "for key, value in species_dict.items():\n",
    "    print(f\"The common name for {key} is {value}\")"
   ]
  },
  {
   "cell_type": "code",
   "execution_count": null,
   "id": "b54c22dd-9f00-42da-820e-adf5d5a5c474",
   "metadata": {
    "tags": []
   },
   "outputs": [],
   "source": [
    "result = species_dict.get(\"P ochraceus\")\n",
    "print(result)"
   ]
  },
  {
   "cell_type": "code",
   "execution_count": null,
   "id": "97daa05d-3a67-44a6-8bbc-d37691ea6a84",
   "metadata": {
    "tags": []
   },
   "outputs": [],
   "source": [
    "numbers = [1, 2, 3,4,5, 3, 8, 13]\n",
    "sub = set(numbers)\n",
    "print(sub)"
   ]
  },
  {
   "cell_type": "code",
   "execution_count": null,
   "id": "877feb30-346d-4d53-870c-d696ff4a3093",
   "metadata": {},
   "outputs": [],
   "source": []
  }
 ],
 "metadata": {
  "kernelspec": {
   "display_name": "Python 3.10.0",
   "language": "python",
   "name": "python3.10.0"
  },
  "language_info": {
   "codemirror_mode": {
    "name": "ipython",
    "version": 3
   },
   "file_extension": ".py",
   "mimetype": "text/x-python",
   "name": "python",
   "nbconvert_exporter": "python",
   "pygments_lexer": "ipython3",
   "version": "3.10.0"
  }
 },
 "nbformat": 4,
 "nbformat_minor": 5
}
