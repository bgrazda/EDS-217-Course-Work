{
 "cells": [
  {
   "cell_type": "markdown",
   "id": "94cb08e3-282d-4b46-bed8-f83f1ee42c47",
   "metadata": {},
   "source": [
    "# Day 1: Session D - Operators & Functions\n",
    "\n",
    "[Session Webpage](https://eds-217-essential-python.github.io/course-materials/interactive-sessions/1d_operators_functions.html)\n",
    "\n",
    "Date: 09/03/2024"
   ]
  },
  {
   "cell_type": "code",
   "execution_count": null,
   "id": "a7b799c8-3671-49d4-ab10-330bc83c3bf2",
   "metadata": {
    "tags": []
   },
   "outputs": [],
   "source": [
    "x = 1\n",
    "y = 42"
   ]
  },
  {
   "cell_type": "code",
   "execution_count": null,
   "id": "254ca5ad-1ab9-4597-a6bf-c8f2b04ed9db",
   "metadata": {
    "tags": []
   },
   "outputs": [],
   "source": [
    "a = 1.0\n",
    "b = 42.0\n",
    "c = 23.782043"
   ]
  },
  {
   "cell_type": "markdown",
   "id": "8a404c4b-e86b-4d68-8e6c-1df22ad5fd2f",
   "metadata": {
    "tags": []
   },
   "source": [
    "### Compound Assignment Operators"
   ]
  },
  {
   "cell_type": "code",
   "execution_count": null,
   "id": "5cbbc0c2-9442-4a28-8fc3-93ade732d43b",
   "metadata": {
    "tags": []
   },
   "outputs": [],
   "source": [
    "count = 10\n",
    "count -= 1\n",
    "print(count)\n",
    "\n",
    "count += 2\n",
    "print(count)\n",
    "\n",
    "count *= 3\n",
    "print(count)"
   ]
  },
  {
   "cell_type": "code",
   "execution_count": null,
   "id": "f5b5b123-cbba-48c5-8aa7-afaa621f9bae",
   "metadata": {
    "tags": []
   },
   "outputs": [],
   "source": [
    "# Initialize the score\n",
    "score = 100\n",
    "\n",
    "# TODO: Use compound assignment to decrease the score by 15\n",
    "score -= 15\n",
    "\n",
    "# TODO: Use compound assignment to double the score\n",
    "score *= 2\n",
    "\n",
    "# TODO: Use compound assignment to divide the score by 5\n",
    "score /= 5\n",
    "\n",
    "print(f\"Final score: {score}\")  # Expected output: 34.0"
   ]
  },
  {
   "cell_type": "markdown",
   "id": "d032c932-04f5-4025-91a9-aa9d9ae9a3ca",
   "metadata": {},
   "source": [
    "### Boolean operators"
   ]
  },
  {
   "cell_type": "code",
   "execution_count": null,
   "id": "2edf2811-976f-4be1-b25b-63ff58b3b82f",
   "metadata": {
    "tags": []
   },
   "outputs": [],
   "source": [
    "print(b >= a)\n",
    "print(87 < -2)\n",
    "print(y == x)\n",
    "print(2 == 2.0)"
   ]
  },
  {
   "cell_type": "code",
   "execution_count": null,
   "id": "03a2b8f0-573e-4471-8360-5afe902f5a08",
   "metadata": {
    "tags": []
   },
   "outputs": [],
   "source": [
    "isinstance(12, int)"
   ]
  },
  {
   "cell_type": "markdown",
   "id": "31ad925e-8be6-4227-a25c-96f2a4ffa501",
   "metadata": {
    "tags": []
   },
   "source": [
    "### Converting types\n",
    "\n",
    "Use `float`, `int`, `str`, etc ... to convert types"
   ]
  },
  {
   "cell_type": "code",
   "execution_count": null,
   "id": "370678a9-53f0-4cf1-b557-a6f419280944",
   "metadata": {
    "tags": []
   },
   "outputs": [],
   "source": [
    "print(float(x))\n",
    "print(int(b))"
   ]
  },
  {
   "cell_type": "code",
   "execution_count": null,
   "id": "cd8b673c-3b60-4b95-9ca5-b2910fa6e085",
   "metadata": {
    "tags": []
   },
   "outputs": [],
   "source": [
    "print(round(c))\n",
    "print(round(c, 3))"
   ]
  },
  {
   "cell_type": "code",
   "execution_count": null,
   "id": "2b5bef07-4a30-4737-ab60-b6d88f13f7ec",
   "metadata": {
    "tags": []
   },
   "outputs": [],
   "source": [
    "# l(a or (A leaf falls on loneliness) by e.e. cummings\n",
    "la = \"\"\"\n",
    "l(a\n",
    "le\n",
    "af\n",
    "fa\n",
    "ll\n",
    "s)\n",
    "one\n",
    "l\n",
    "iness\n",
    "\"\"\"\n",
    "\n",
    "print(la)"
   ]
  },
  {
   "cell_type": "code",
   "execution_count": null,
   "id": "22f7c3c4-05d3-4a35-bbfd-202a0e036354",
   "metadata": {
    "tags": []
   },
   "outputs": [],
   "source": [
    "print('isaac ' + 'newton')"
   ]
  },
  {
   "cell_type": "markdown",
   "id": "d7f12d5b-5f63-4846-93b4-c0b4f9c43cc2",
   "metadata": {},
   "source": [
    "### Formatted Print Statements (f strings)\n",
    "\n",
    "Use f-string notation to include variables in your print statements!"
   ]
  },
  {
   "cell_type": "code",
   "execution_count": null,
   "id": "7d3fc712-9e53-4c1b-9f70-8a2c18830182",
   "metadata": {
    "tags": []
   },
   "outputs": [],
   "source": [
    "name = 'Alice'\n",
    "age = 30\n",
    "\n",
    "#Example of an f string\n",
    "print(f\"My name is {name} and I am {age} years old.\")"
   ]
  },
  {
   "cell_type": "code",
   "execution_count": null,
   "id": "7e3f101d-ee75-4b7f-af80-23e10a16a9bf",
   "metadata": {
    "tags": []
   },
   "outputs": [],
   "source": [
    "pi = 3.141592653\n",
    "\n",
    "#print with 2 decimal places\n",
    "print(f\"The value of pi is approximately: {pi:.2f}\")\n",
    "\n",
    "#print with 4 decimal places and 10 integar places\n",
    "print(f\"The value of pi is approximately: {pi:10.4f}\")"
   ]
  }
 ],
 "metadata": {
  "kernelspec": {
   "display_name": "Python 3.10.0",
   "language": "python",
   "name": "python3.10.0"
  },
  "language_info": {
   "codemirror_mode": {
    "name": "ipython",
    "version": 3
   },
   "file_extension": ".py",
   "mimetype": "text/x-python",
   "name": "python",
   "nbconvert_exporter": "python",
   "pygments_lexer": "ipython3",
   "version": "3.10.0"
  }
 },
 "nbformat": 4,
 "nbformat_minor": 5
}
