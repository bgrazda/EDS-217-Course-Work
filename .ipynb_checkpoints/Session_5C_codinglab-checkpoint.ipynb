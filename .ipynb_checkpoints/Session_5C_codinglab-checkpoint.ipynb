{
 "cells": [
  {
   "cell_type": "code",
   "execution_count": null,
   "id": "fd4824ce-c95d-43c7-9340-6ba56400e734",
   "metadata": {
    "tags": []
   },
   "outputs": [],
   "source": [
    "import pandas as pd\n",
    "import seaborn as sns\n",
    "import matplotlib.pyplot as plt\n",
    "import numpy as np\n",
    "\n",
    "# Set the style for better-looking plots\n",
    "sns.set_style(\"whitegrid\")\n",
    "\n",
    "# Load the Palmer Penguins dataset\n",
    "penguins = sns.load_dataset(\"penguins\")\n",
    "\n",
    "# Display the first few rows and basic information about the dataset\n",
    "print(penguins.head())\n",
    "print(penguins.info())"
   ]
  },
  {
   "cell_type": "markdown",
   "id": "a9b43eaf-2a10-4ed2-a7be-6cac68ac51a3",
   "metadata": {},
   "source": [
    "## Task 1: Exploring Distributions with Histograms"
   ]
  },
  {
   "cell_type": "markdown",
   "id": "19cb950b-e5db-4273-98a2-2ab0d909a1c9",
   "metadata": {},
   "source": [
    "### Create histograms for ‘bill_length_mm’, ‘bill_depth_mm’, ‘flipper_length_mm’, and ‘body_mass_g’. "
   ]
  },
  {
   "cell_type": "code",
   "execution_count": null,
   "id": "a7764371-1658-468e-b699-b4eff2b85132",
   "metadata": {},
   "outputs": [],
   "source": [
    "\n",
    "fig, axes = plt.subplots(2, 2, figsize=(8, 8))\n",
    "sns.histplot(data=penguins, x='bill_length_mm', kde=True, ax=axes[0, 0])\n",
    "sns.histplot(data=penguins, x='bill_depth_mm', kde=True, ax=axes[0, 1])\n",
    "sns.histplot(data=penguins, x='flipper_length_mm', kde=True, ax=axes[1, 0])\n",
    "sns.histplot(data=penguins, x='body_mass_g', kde=True, ax=axes[1, 1])\n",
    "plt.tight_layout()\n",
    "plt.show()\n",
    "\n",
    "# Example with different number of bins\n",
    "sns.histplot(data=penguins, x='body_mass_g', bins=35, kde=True)\n",
    "plt.title('Body Mass Distribution (35 bins)')\n",
    "plt.show()"
   ]
  },
  {
   "cell_type": "markdown",
   "id": "41c2294c-906d-4e68-8b24-811a3b0e66e0",
   "metadata": {},
   "source": [
    "### Experiment with different numbers of bins to see how it affects the visualization."
   ]
  },
  {
   "cell_type": "markdown",
   "id": "00894261-47f6-47a3-ac8b-3b35de7997b8",
   "metadata": {},
   "source": [
    "### Try using sns.histplot() with the ‘kde’ parameter set to True to overlay a kernel density estimate."
   ]
  },
  {
   "cell_type": "code",
   "execution_count": null,
   "id": "3b71703d-60ce-4fa5-845f-f36cedb5800b",
   "metadata": {
    "tags": []
   },
   "outputs": [],
   "source": [
    "fig, axes = plt.subplots(2, 2, figsize=(8, 8))\n",
    "sns.histplot(data = penguins, x = 'bill_length_mm', kde = True, ax = axes[0,0], color = 'cornflowerblue')\n",
    "sns.histplot(data = penguins, x = 'bill_depth_mm', kde = True, ax = axes[1,0], color = 'darkorange')\n",
    "sns.histplot(data = penguins, x = 'body_mass_g', kde = True, ax = axes[0,1], color = 'forestgreen')\n",
    "sns.histplot(data=penguins, x='flipper_length_mm', kde=True, ax=axes[1, 1], color = 'hotpink')\n",
    "plt.tight_layout()\n",
    "plt.show()"
   ]
  },
  {
   "cell_type": "markdown",
   "id": "984a2b4e-2007-4cdd-a1a1-fd54f7035f19",
   "metadata": {},
   "source": [
    "## Task 2: Examining Correlations"
   ]
  },
  {
   "cell_type": "markdown",
   "id": "63021e09-a413-4e4c-9bc4-ceb44c1eec89",
   "metadata": {},
   "source": [
    "#### 1. Use sns.pairplot() to create a grid of scatter plots for all numeric variables."
   ]
  },
  {
   "cell_type": "code",
   "execution_count": null,
   "id": "c0fbaa7d-32d3-4760-8e55-50ec58df662a",
   "metadata": {
    "tags": []
   },
   "outputs": [],
   "source": [
    "sns.pairplot(data = penguins, hue = 'species')"
   ]
  },
  {
   "cell_type": "markdown",
   "id": "5bd59887-ea7f-4492-a31e-da279b984873",
   "metadata": {},
   "source": [
    "#### 2. Modify the pairplot to show the species information using different colors."
   ]
  },
  {
   "cell_type": "markdown",
   "id": "e24c9445-35d1-4eb8-8ff4-be3a16be27c5",
   "metadata": {},
   "source": [
    "#### 3. Interpret the pairplot: which variables seem to be most strongly correlated? Do you notice any patterns related to species?\n",
    "\n",
    "Adelie and chinstrap seem to be closer in relationship basded on bill depth vs body mass and bill depth vs flipper length"
   ]
  },
  {
   "cell_type": "markdown",
   "id": "ffdf822b-caa9-4303-b7c3-d57422092db2",
   "metadata": {},
   "source": [
    "## Task 3: Investigating Relationships with Regression Plots"
   ]
  },
  {
   "cell_type": "markdown",
   "id": "a620eaab-9766-4cc9-bc27-9308dd996602",
   "metadata": {},
   "source": [
    "#### 1. Create a regression plot (sns.regplot) showing the relationship between ‘flipper_length_mm’ and ‘body_mass_g’."
   ]
  },
  {
   "cell_type": "code",
   "execution_count": null,
   "id": "d77f044d-5789-4fb5-b6d6-0e1eb59966f9",
   "metadata": {
    "tags": []
   },
   "outputs": [],
   "source": [
    "sns.regplot(data = penguins, x = 'flipper_length_mm', y = 'body_mass_g')"
   ]
  },
  {
   "cell_type": "markdown",
   "id": "30b732e3-6e46-4540-8a6b-221568694b4e",
   "metadata": {},
   "source": [
    "#### 2. Create another regplot showing the relationship between ‘bill_length_mm’ and ‘bill_depth_mm’."
   ]
  },
  {
   "cell_type": "code",
   "execution_count": null,
   "id": "e2f86d2c-ea41-48ef-96d6-2f0e1feb9e05",
   "metadata": {
    "tags": []
   },
   "outputs": [],
   "source": [
    "sns.regplot(data = penguins, x = 'bill_length_mm', y = 'bill_depth_mm')\n",
    "sns.lmplot(data = penguins,  x = 'bill_length_mm', y = 'bill_depth_mm', hue = 'species')"
   ]
  },
  {
   "cell_type": "markdown",
   "id": "d597b84f-28da-4e72-895b-5a1ed49a7804",
   "metadata": {},
   "source": [
    "#### 3. Try adding the ‘species’ information to one of these plots using different colors. Hint: You might want to use sns.lmplot for this."
   ]
  },
  {
   "cell_type": "markdown",
   "id": "086bd55c-d1e2-428e-b3b8-5bbff163b03d",
   "metadata": {},
   "source": [
    "## Task 4: Joint Distribution Plots"
   ]
  },
  {
   "cell_type": "markdown",
   "id": "2ad41b79-b652-4ebe-a4b5-156f35f5a4ba",
   "metadata": {},
   "source": [
    "#### 1. Create a joint plot for ‘flipper_length_mm’ and ‘body_mass_g’. "
   ]
  },
  {
   "cell_type": "code",
   "execution_count": null,
   "id": "41183e3b-23a0-431e-8e4e-f6b23d79440f",
   "metadata": {
    "tags": []
   },
   "outputs": [],
   "source": [
    "sns.jointplot(data=penguins, x=\"flipper_length_mm\", y=\"bill_depth_mm\", hue=\"species\", kind = \"kde\")"
   ]
  },
  {
   "cell_type": "markdown",
   "id": "f0386371-0b89-4da5-8b41-a27b0bcc25ec",
   "metadata": {},
   "source": [
    "#### 2. Experiment with different kind parameters in the joint plot (e.g., ‘scatter’, ‘kde’, ‘hex’)."
   ]
  },
  {
   "cell_type": "markdown",
   "id": "c89ee49c-dc63-41f8-9c06-4bb2a524b24b",
   "metadata": {},
   "source": [
    "#### 3. Create another joint plot, this time for ‘bill_length_mm’ and ‘bill_depth_mm’, colored by species."
   ]
  },
  {
   "cell_type": "code",
   "execution_count": null,
   "id": "8a9ae57b-7182-4786-b426-6f190088070d",
   "metadata": {
    "tags": []
   },
   "outputs": [],
   "source": [
    "sns.jointplot(data=penguins, x=\"bill_length_mm\", y=\"bill_depth_mm\", kind = \"hex\")"
   ]
  },
  {
   "cell_type": "markdown",
   "id": "371047de-791c-49d3-bc43-cb67b96a26b4",
   "metadata": {},
   "source": [
    "# BONUS \n",
    "### Create a correlation matrix using the numerical columns in the dataset."
   ]
  },
  {
   "cell_type": "code",
   "execution_count": null,
   "id": "7234766b-c852-46d9-9c2c-b0560104d65e",
   "metadata": {
    "tags": []
   },
   "outputs": [],
   "source": [
    "corr_matrix = penguins.select_dtypes(include=np.number).corr()"
   ]
  },
  {
   "cell_type": "code",
   "execution_count": null,
   "id": "08f23c64-3873-414f-af96-b798dad96b4e",
   "metadata": {
    "tags": []
   },
   "outputs": [],
   "source": [
    "sns.heatmap(data = corr_matrix)"
   ]
  }
 ],
 "metadata": {
  "kernelspec": {
   "display_name": "Python 3.10.0",
   "language": "python",
   "name": "python3.10.0"
  },
  "language_info": {
   "codemirror_mode": {
    "name": "ipython",
    "version": 3
   },
   "file_extension": ".py",
   "mimetype": "text/x-python",
   "name": "python",
   "nbconvert_exporter": "python",
   "pygments_lexer": "ipython3",
   "version": "3.10.0"
  }
 },
 "nbformat": 4,
 "nbformat_minor": 5
}
