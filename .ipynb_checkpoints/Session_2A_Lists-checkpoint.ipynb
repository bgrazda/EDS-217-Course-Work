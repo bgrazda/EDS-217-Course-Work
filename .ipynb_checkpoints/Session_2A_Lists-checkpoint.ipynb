{
 "cells": [
  {
   "cell_type": "markdown",
   "id": "43a15503-5a58-44cc-893a-dd720ad1adde",
   "metadata": {
    "tags": []
   },
   "source": [
    "# Day 2: Session A - Lists\n",
    "\n",
    "[Link to session webpage](https://eds-217-essential-python.github.io/course-materials/interactive-sessions/2a_lists.html)\n",
    "\n",
    "Date: 09/04/2024"
   ]
  },
  {
   "cell_type": "code",
   "execution_count": null,
   "id": "8e8362e6-a0c3-47a7-95e2-8bfc774dff5d",
   "metadata": {
    "tags": []
   },
   "outputs": [],
   "source": [
    "# Define list variables\n",
    "num_list = [4, 23, 654, 2, 0, -12, 4391]\n",
    "str_list = ['energy', 'water', 'carbon']"
   ]
  },
  {
   "cell_type": "code",
   "execution_count": null,
   "id": "dc4ee005-da24-48ed-82bc-7484059b59fb",
   "metadata": {
    "tags": []
   },
   "outputs": [],
   "source": [
    "len(num_list)"
   ]
  },
  {
   "cell_type": "markdown",
   "id": "b7a9446e-67de-4099-b7cc-b46aa60be080",
   "metadata": {},
   "source": [
    "## Indexing\n",
    "#### Python is zero indexed"
   ]
  },
  {
   "cell_type": "code",
   "execution_count": null,
   "id": "d81f0527-725b-4c3b-897d-3d1a906e138e",
   "metadata": {
    "tags": []
   },
   "outputs": [],
   "source": [
    "#The second element of a list is index position 1\n",
    "print(num_list[1])"
   ]
  },
  {
   "cell_type": "code",
   "execution_count": null,
   "id": "2aedf7bc-b590-4c22-a7fa-f5e21e544ff3",
   "metadata": {
    "tags": []
   },
   "outputs": [],
   "source": [
    "# The last element of a list can be found using -1:\n",
    "print(num_list[-1])"
   ]
  },
  {
   "cell_type": "code",
   "execution_count": null,
   "id": "fbcd94ac-bccd-4fe6-87ab-29f0ea7d6a65",
   "metadata": {
    "tags": []
   },
   "outputs": [],
   "source": [
    "#Find the 2nd value of str_list two different ways (direct indexing, from the end of the list)\n",
    "print(str_list[1])\n",
    "print(str_list[len(str_list) - (len(str_list)-1)])"
   ]
  },
  {
   "cell_type": "markdown",
   "id": "0311ed51-9b7d-41bb-8604-b74800a2e1d8",
   "metadata": {},
   "source": [
    "## Slicing\n",
    "#### Selecting selections of a collection is \"slicing\""
   ]
  },
  {
   "cell_type": "code",
   "execution_count": null,
   "id": "136841ed-1185-446e-a0bf-0b98441fec71",
   "metadata": {
    "tags": []
   },
   "outputs": [],
   "source": [
    "print(num_list)\n",
    "print(f\"slice from 2:4: {num_list[2:4]}\") #everything from 2 up to 4 but not including 4"
   ]
  },
  {
   "cell_type": "code",
   "execution_count": null,
   "id": "d4d39cc5-9260-476a-af2c-2931ec74c0b8",
   "metadata": {
    "tags": []
   },
   "outputs": [],
   "source": [
    "# Everything after a location (including that location:)\n",
    "print(num_list[3:])"
   ]
  },
  {
   "cell_type": "code",
   "execution_count": null,
   "id": "8c6e8f89-7faf-4967-a4ec-3c782acdb564",
   "metadata": {
    "tags": []
   },
   "outputs": [],
   "source": [
    "print(f\"num_list[2:6]: {num_list[2:6]}\")"
   ]
  },
  {
   "cell_type": "code",
   "execution_count": null,
   "id": "0a39807a-b42d-46bb-a6fb-b3c17cc13afb",
   "metadata": {
    "tags": []
   },
   "outputs": [],
   "source": [
    "print(f\"num_list[0:4]: {num_list[0:4]}\")"
   ]
  },
  {
   "cell_type": "code",
   "execution_count": null,
   "id": "26cf0364-2c09-4300-81b5-5f48557d17df",
   "metadata": {
    "tags": []
   },
   "outputs": [],
   "source": [
    "num_list[:4]"
   ]
  },
  {
   "cell_type": "code",
   "execution_count": null,
   "id": "454089cf-e5d4-4d70-b64d-72c7ad2db9a5",
   "metadata": {
    "tags": []
   },
   "outputs": [],
   "source": [
    "print(f\"num_list[-6:-1]: {num_list[-6:-1]}\") "
   ]
  },
  {
   "cell_type": "code",
   "execution_count": null,
   "id": "dabf148f-d558-4e64-9397-2a88c7528a00",
   "metadata": {
    "tags": []
   },
   "outputs": [],
   "source": [
    "#Let's go through num_list from start to end in steps of 2\n",
    "num_list[0::2]"
   ]
  },
  {
   "cell_type": "markdown",
   "id": "be33ec10-2b77-47fc-8c51-084bc705dfc9",
   "metadata": {},
   "source": [
    "### String indices\n",
    "Similar to lists..."
   ]
  },
  {
   "cell_type": "code",
   "execution_count": null,
   "id": "53f10a1b-9968-485e-acef-4a119f2667d0",
   "metadata": {
    "tags": []
   },
   "outputs": [],
   "source": [
    "word_str = 'antidisestablishmentarianism'"
   ]
  },
  {
   "cell_type": "code",
   "execution_count": null,
   "id": "240cde47-d3f4-4af9-8221-2f15aa3d0724",
   "metadata": {
    "tags": []
   },
   "outputs": [],
   "source": [
    "word_str[14]"
   ]
  },
  {
   "cell_type": "code",
   "execution_count": null,
   "id": "d72633ad-0e3d-441c-8eaa-56ac10b05cf7",
   "metadata": {
    "tags": []
   },
   "outputs": [],
   "source": [
    "word_str[-1]"
   ]
  },
  {
   "cell_type": "code",
   "execution_count": null,
   "id": "8a601e84-18da-4e8e-9c39-7771df86d3e5",
   "metadata": {
    "tags": []
   },
   "outputs": [],
   "source": [
    "# Select every third letter\n",
    "word_str[::3]"
   ]
  },
  {
   "cell_type": "code",
   "execution_count": null,
   "id": "86f72e3a-d352-4e92-b5fa-36ad060e8c80",
   "metadata": {
    "tags": []
   },
   "outputs": [],
   "source": [
    "colors = ['red', 'blue', 'green', 'black', 'white', 'pink']"
   ]
  },
  {
   "cell_type": "code",
   "execution_count": null,
   "id": "43ac66f9-478b-4afb-839b-91c8695f9eb2",
   "metadata": {
    "tags": []
   },
   "outputs": [],
   "source": [
    "# add elements to a list using insert(i = position, x = value)\n",
    "colors.insert(3, \"purple\")\n",
    "print(colors)"
   ]
  },
  {
   "cell_type": "code",
   "execution_count": null,
   "id": "75d2397f-6f91-4648-87e0-b7bcd2fb3038",
   "metadata": {
    "tags": []
   },
   "outputs": [],
   "source": [
    "# remove from the end of a list using pop\n",
    "colors = ['red', 'blue', 'green', 'black', 'white', 'pink']\n",
    "print(colors.pop())\n",
    "print(colors)"
   ]
  },
  {
   "cell_type": "code",
   "execution_count": null,
   "id": "7b9bc6d5-69a8-40ac-8514-367bc449d2de",
   "metadata": {
    "tags": []
   },
   "outputs": [],
   "source": [
    "# Use remove to get rid of a specific value(s)\n",
    "colors = ['red', 'blue', 'green', 'black', 'white', 'pink']\n",
    "colors.remove('red')\n",
    "print(colors)"
   ]
  },
  {
   "cell_type": "code",
   "execution_count": null,
   "id": "2d533265-aaa4-4d4b-b935-7be9f960303a",
   "metadata": {
    "tags": []
   },
   "outputs": [],
   "source": [
    "# use del for removing slices\n",
    "colors = ['red', 'blue', 'green', 'black', 'white', 'pink']\n",
    "del colors[2::2]\n",
    "print(colors)"
   ]
  },
  {
   "cell_type": "code",
   "execution_count": null,
   "id": "891371eb-279a-4b30-8c9d-049d73d977ed",
   "metadata": {
    "tags": []
   },
   "outputs": [],
   "source": [
    "# remove pink and purple from colors,\n",
    "# using del for one of the \n",
    "#strings and list.remove() for the other. \n",
    "colors = ['red', 'blue', 'green', 'purple', 'black', 'white', 'pink']\n",
    "print(colors)\n",
    "del colors[-1]\n",
    "print(colors)\n",
    "colors.remove('purple')\n",
    "print(colors)"
   ]
  },
  {
   "cell_type": "markdown",
   "id": "e73b1667-ef6e-4a22-b37f-0c9d208cc28a",
   "metadata": {},
   "source": [
    "### Sorting Lists"
   ]
  },
  {
   "cell_type": "code",
   "execution_count": null,
   "id": "4b504980-dd6a-4640-8215-97edf5bad027",
   "metadata": {
    "tags": []
   },
   "outputs": [],
   "source": [
    "rand_list = [5.1 , 3.42 , 3.333 , 100.4 , 0.5 , 26.0 , 7.44 , 5.8 , 39.0]\n",
    "rand_list.sort()\n",
    "print(rand_list)"
   ]
  },
  {
   "cell_type": "code",
   "execution_count": null,
   "id": "1b5f633d-5771-46c0-9a97-c32afc9f35bf",
   "metadata": {
    "tags": []
   },
   "outputs": [],
   "source": [
    "# Use the reverse argument to get a list from largest to smallest\n",
    "rand_list = [5.1 , 3.42 , 3.333 , 100.4 , 0.5 , 26.0 , 7.44 , 5.8 , 39.0]\n",
    "rand_list.sort(reverse = True)\n",
    "print(rand_list)"
   ]
  },
  {
   "cell_type": "code",
   "execution_count": null,
   "id": "992c8db3-405b-40c5-b6cf-4a43ab41bc86",
   "metadata": {
    "tags": []
   },
   "outputs": [],
   "source": [
    "# to get a new list that is sorted, we use the sorted function\n",
    "rand_list = [5.1 , 3.42 , 3.333 , 100.4 , 0.5 , 26.0 , 7.44 , 5.8 , 39.0]\n",
    "new_list = sorted(rand_list, reverse = True)\n",
    "print(f\"rand_list = {rand_list}\")\n",
    "print(f\"new_list = {new_list}\")"
   ]
  },
  {
   "cell_type": "code",
   "execution_count": null,
   "id": "2ebd70b5-66f1-49a7-8fd7-241225fec9fa",
   "metadata": {
    "tags": []
   },
   "outputs": [],
   "source": [
    "#Use .copy() to avoid creating duplicate assignments\n",
    "rand_list = [5.1 , 3.42 , 3.333 , 100.4 , 0.5 , 26.0 , 7.44 , 5.8 , 39.0]\n",
    "new_list = rand_list.copy()\n",
    "new_list.sort()\n",
    "print(f\"new list after sorting: {new_list}\")\n",
    "print(f\"rand_list after sorting new_list: {rand_list}\")"
   ]
  },
  {
   "cell_type": "markdown",
   "id": "9c223d98-46e5-4d20-a4fa-2adbf56833b0",
   "metadata": {},
   "source": [
    "## Adding Lists together\n",
    "\n",
    "It's easy!"
   ]
  },
  {
   "cell_type": "code",
   "execution_count": null,
   "id": "f56b9b4e-5668-45e6-8a45-73a5c5724659",
   "metadata": {
    "tags": []
   },
   "outputs": [],
   "source": [
    "rainbow  = ['red', 'orange', 'yellow', 'green', 'blue', 'indigo', 'violet']\n",
    "shades = ['coral', 'chartreuse', 'cyan', 'navy']\n",
    "print( rainbow + shades )"
   ]
  },
  {
   "cell_type": "code",
   "execution_count": null,
   "id": "4aa24b06-b742-47e0-ba5b-8be47c5e4cbc",
   "metadata": {
    "tags": []
   },
   "outputs": [],
   "source": [
    "print(str_list*2)"
   ]
  },
  {
   "cell_type": "markdown",
   "id": "2154cde4-bb9f-4eab-b1e0-fc77b1299995",
   "metadata": {},
   "source": [
    "## Sequential Lists\n",
    "`range()` is a built in function to make sequential lists"
   ]
  },
  {
   "cell_type": "code",
   "execution_count": null,
   "id": "e6523c02-8192-41db-89e6-313095c25a6e",
   "metadata": {
    "tags": []
   },
   "outputs": [],
   "source": [
    "a = list(range(4))\n",
    "print(a)"
   ]
  },
  {
   "cell_type": "code",
   "execution_count": null,
   "id": "19035c83-6742-4318-8161-2aaeb5e81d1a",
   "metadata": {
    "tags": []
   },
   "outputs": [],
   "source": [
    "print(list(range(1,11,1)))"
   ]
  }
 ],
 "metadata": {
  "kernelspec": {
   "display_name": "Python 3.10.0",
   "language": "python",
   "name": "python3.10.0"
  },
  "language_info": {
   "codemirror_mode": {
    "name": "ipython",
    "version": 3
   },
   "file_extension": ".py",
   "mimetype": "text/x-python",
   "name": "python",
   "nbconvert_exporter": "python",
   "pygments_lexer": "ipython3",
   "version": "3.10.0"
  }
 },
 "nbformat": 4,
 "nbformat_minor": 5
}
