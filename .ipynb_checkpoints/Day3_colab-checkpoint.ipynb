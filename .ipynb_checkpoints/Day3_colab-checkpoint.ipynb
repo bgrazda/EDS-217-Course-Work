{
 "cells": [
  {
   "cell_type": "markdown",
   "id": "2bc5117c-9390-4377-9d11-4dccaad8f7e0",
   "metadata": {},
   "source": [
    "## Day 3 Co Lab\n",
    "\n",
    "With Liz and Michelle"
   ]
  },
  {
   "cell_type": "code",
   "execution_count": null,
   "id": "f31daa01-42f2-46c0-8d8c-65fb56169992",
   "metadata": {
    "tags": []
   },
   "outputs": [],
   "source": [
    "temperature = 20\n",
    "\n",
    "if temperature > 25 :\n",
    "    print(\"It's a hot day, stay hydrated!\")\n",
    "else:\n",
    "    print(\"Enjoy the pleasant weather\")"
   ]
  },
  {
   "cell_type": "code",
   "execution_count": null,
   "id": "0ee4521f-ce06-4929-aa35-66cbd9d86feb",
   "metadata": {
    "tags": []
   },
   "outputs": [],
   "source": [
    "score = 85\n",
    "\n",
    "if score >= 90:\n",
    "    print(\"A\")\n",
    "elif score >= 80:\n",
    "    print(\"B\")\n",
    "elif score >= 70:\n",
    "    print(\"C\")\n",
    "elif score >= 60:\n",
    "    print(\"D\")\n",
    "else:\n",
    "    print(\"FAILURE\")"
   ]
  },
  {
   "cell_type": "code",
   "execution_count": null,
   "id": "b8ac7ec0-24d0-41ee-9fb7-8b677583b6b5",
   "metadata": {
    "tags": []
   },
   "outputs": [],
   "source": [
    "for sheep in range(1,6,1):\n",
    "    print(f\" {sheep} sheep\")"
   ]
  },
  {
   "cell_type": "code",
   "execution_count": null,
   "id": "615815ac-650b-47f2-a0cf-702dacfe50e8",
   "metadata": {
    "tags": []
   },
   "outputs": [],
   "source": [
    "total = 0\n",
    "\n",
    "for i in range(1,11,1):\n",
    "    total += 1\n",
    "\n",
    "print(total)"
   ]
  },
  {
   "cell_type": "code",
   "execution_count": null,
   "id": "90fb1b88-4288-41ea-b77b-1912e50590b8",
   "metadata": {},
   "outputs": [],
   "source": [
    "countdown = 5\n",
    "\n",
    "while countdown > 0:\n",
    "    print(countdown)\n",
    "    countdown -= 1\n",
    "\n",
    "print(\"blast off!\")"
   ]
  }
 ],
 "metadata": {
  "kernelspec": {
   "display_name": "Python 3.10.0",
   "language": "python",
   "name": "python3.10.0"
  },
  "language_info": {
   "codemirror_mode": {
    "name": "ipython",
    "version": 3
   },
   "file_extension": ".py",
   "mimetype": "text/x-python",
   "name": "python",
   "nbconvert_exporter": "python",
   "pygments_lexer": "ipython3",
   "version": "3.10.0"
  }
 },
 "nbformat": 4,
 "nbformat_minor": 5
}
