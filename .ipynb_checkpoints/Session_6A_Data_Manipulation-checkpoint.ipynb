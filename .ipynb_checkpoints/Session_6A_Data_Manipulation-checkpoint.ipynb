{
 "cells": [
  {
   "cell_type": "markdown",
   "id": "d7334695-8cdf-43c7-a43f-3876029f624e",
   "metadata": {},
   "source": [
    "# Day 5: Session A - [Pandas Data Manipulation and Analysis Techniques]\n",
    "\n",
    "[https://eds-217-essential-python.github.io/course-materials/interactive-sessions/6a_grouping_joining_sorting.html]\n",
    "\n",
    "Date: [09/10/24]"
   ]
  },
  {
   "cell_type": "code",
   "execution_count": null,
   "id": "e24dfcf0-1d07-4578-a22a-0349484135e6",
   "metadata": {
    "tags": []
   },
   "outputs": [],
   "source": [
    "import pandas as pd\n",
    "import numpy as np\n",
    "import matplotlib.pyplot as plt\n",
    "import seaborn as sns "
   ]
  },
  {
   "cell_type": "code",
   "execution_count": null,
   "id": "2f5d20c2-aaea-403e-b75a-5711d0ca6bba",
   "metadata": {
    "tags": []
   },
   "outputs": [],
   "source": [
    "# Create some random data:\n",
    "np.random.seed(42) #sets a seed for random functions for reproducibility \n",
    "dates = pd.date_range(start ='2023-01-02', periods = 100)\n",
    "\n",
    "data = {\n",
    "    'date': dates,\n",
    "    'site': np.random.choice(['Forest', 'Grassland', 'Wetland'], 100),\n",
    "    'species': np.random.choice(['Oak', 'Maple', 'Pine', 'Birch'], 100),\n",
    "    'count': np.random.randint(1, 20, 100),\n",
    "    'temperature': np.random.normal(15, 5, 100)\n",
    "}\n",
    "df = pd.DataFrame(data)\n",
    "print(df.head())"
   ]
  },
  {
   "cell_type": "markdown",
   "id": "158aa530-776e-45cb-bb5e-e7c34a40b43e",
   "metadata": {},
   "source": [
    "## Sorting Data\n",
    "\n",
    "### Basic Sorting"
   ]
  },
  {
   "cell_type": "code",
   "execution_count": null,
   "id": "2a2a2651-875c-413c-a87f-37af186d5259",
   "metadata": {
    "tags": []
   },
   "outputs": [],
   "source": [
    "# Sort by species count\n",
    "df_sorted = df.sort_values('count', ascending = False)\n",
    "print(df_sorted.head())"
   ]
  },
  {
   "cell_type": "markdown",
   "id": "8abf099f-756a-4e68-b481-b5ed5730f6de",
   "metadata": {
    "tags": []
   },
   "source": [
    "### Multi Column Sorting"
   ]
  },
  {
   "cell_type": "code",
   "execution_count": null,
   "id": "650a0b82-dabd-4c06-ab0f-b1fba1e9613e",
   "metadata": {
    "tags": []
   },
   "outputs": [],
   "source": [
    "# Sort by site and then by species count\n",
    "df_multi_sorted = df.sort_values(['site', 'count'], ascending=[True, False])\n",
    "print(df_multi_sorted.head())"
   ]
  },
  {
   "cell_type": "markdown",
   "id": "3aff020a-5d84-4c0b-92f0-9e56656fcaeb",
   "metadata": {},
   "source": [
    "## Grouping and Aggregating\n",
    "### Basic Groupby"
   ]
  },
  {
   "cell_type": "code",
   "execution_count": null,
   "id": "a7381671-d120-4e02-ab3e-0443cc30e895",
   "metadata": {
    "tags": []
   },
   "outputs": [],
   "source": [
    "sites = df.groupby('site')\n",
    "sites['count'].sum()\n",
    "\n",
    "# In one line, creating groupby object and specifying the count column that you want to sum for site\n",
    "sites = df.groupby('site')['count'].sum()\n",
    "print(sites)"
   ]
  },
  {
   "cell_type": "markdown",
   "id": "974a4b9c-a26e-4a75-96ba-93e42109fbf7",
   "metadata": {
    "tags": []
   },
   "source": [
    "### Multiple Aggregations\n",
    "\n",
    "We can provide a list of aggregation functions instead of just one function using `agg()` "
   ]
  },
  {
   "cell_type": "code",
   "execution_count": null,
   "id": "4e8feed1-174e-4627-bd9d-4f7404c2cfef",
   "metadata": {
    "tags": []
   },
   "outputs": [],
   "source": [
    "# For one column, let's get the results of multiple aggregations: \n",
    "# Pass the commands in as strings, which is a little weird.\n",
    "\n",
    "#group by site, aggregate the count column\n",
    "site_stats = df.groupby('site')['count'].agg(['sum', 'min', 'max'])\n",
    "print(site_stats)"
   ]
  },
  {
   "cell_type": "code",
   "execution_count": null,
   "id": "b0499711-c7d8-4614-872a-16dd9a63f933",
   "metadata": {
    "tags": []
   },
   "outputs": [],
   "source": [
    "# provide column specific aggregations in a dictionary to agg().\n",
    "site_stats = df.groupby('site').agg({\n",
    "    'count': ['sum', 'min', 'max'],\n",
    "    'species': 'nunique',\n",
    "    'temperature': 'mean'\n",
    "    \n",
    "})\n",
    "print(site_stats)"
   ]
  },
  {
   "cell_type": "markdown",
   "id": "7d1d9497-856a-4481-b8a5-73238d1551f6",
   "metadata": {
    "tags": []
   },
   "source": [
    "## Joining Data\n",
    "\n"
   ]
  },
  {
   "cell_type": "code",
   "execution_count": null,
   "id": "192827b6-cf93-48a4-91f5-f4133553ccba",
   "metadata": {
    "tags": []
   },
   "outputs": [],
   "source": [
    "site_data = pd.DataFrame({\n",
    "    'site': ['Forest', 'Grassland', 'Wetland'],\n",
    "    'soil_pH' : [6.5, 7.2, 6.8],\n",
    "    'annual_rainfall': [1200, 800, 1500]\n",
    "})"
   ]
  },
  {
   "cell_type": "code",
   "execution_count": null,
   "id": "688dfade-170b-449b-8eeb-581c92972677",
   "metadata": {
    "tags": []
   },
   "outputs": [],
   "source": [
    "# Performing a join using pd.merge command:\n",
    "#Arguments:\n",
    "# 1. initial (main) dataframe (positional)\n",
    "# 2. new dataframe (positional)\n",
    "# 3. on =  'site' <- column that you want to join on.\n",
    "# 4. how = 'inner' <- how to do the join (inner is most common)\n",
    "merged_df = pd.merge(df, site_data, on = 'site', how = 'inner')\n",
    "merged_df.head()"
   ]
  },
  {
   "cell_type": "markdown",
   "id": "ea0acb3b-a440-4cba-b3aa-180f2bf2f01b",
   "metadata": {
    "tags": []
   },
   "source": [
    "## Working with Dates (and date indices)"
   ]
  },
  {
   "cell_type": "code",
   "execution_count": null,
   "id": "bcff8bfe-43d2-41c3-9d07-f7c2a1445273",
   "metadata": {
    "tags": []
   },
   "outputs": [],
   "source": [
    "# For time series data, its often nice to make the row index the timestamp! \n",
    "# Use set_index() method to set the index to a specific column\n",
    "new_df = merged_df.set_index('date')\n",
    "print(new_df)"
   ]
  }
 ],
 "metadata": {
  "kernelspec": {
   "display_name": "Python 3.10.0",
   "language": "python",
   "name": "python3.10.0"
  },
  "language_info": {
   "codemirror_mode": {
    "name": "ipython",
    "version": 3
   },
   "file_extension": ".py",
   "mimetype": "text/x-python",
   "name": "python",
   "nbconvert_exporter": "python",
   "pygments_lexer": "ipython3",
   "version": "3.10.0"
  }
 },
 "nbformat": 4,
 "nbformat_minor": 5
}
