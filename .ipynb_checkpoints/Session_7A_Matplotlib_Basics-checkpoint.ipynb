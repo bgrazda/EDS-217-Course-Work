{
 "cells": [
  {
   "cell_type": "markdown",
   "id": "9b6880ee-c783-46db-8d70-a5f853147363",
   "metadata": {
    "tags": []
   },
   "source": [
    "# Day 7: Session A - [Data Visualization]\n",
    "\n",
    "[https://eds-217-essential-python.github.io/course-materials/interactive-sessions/7a_visualizations_1.html]\n",
    "\n",
    "Date: [09/11/2024]"
   ]
  },
  {
   "cell_type": "code",
   "execution_count": null,
   "id": "82be3d16-c289-451c-9a61-80681e02b3ba",
   "metadata": {
    "tags": []
   },
   "outputs": [],
   "source": [
    "# Import matplotlib using this code:\n",
    "import numpy as np\n",
    "import matplotlib.pyplot as plt\n",
    "import pandas as pd"
   ]
  },
  {
   "cell_type": "code",
   "execution_count": null,
   "id": "8d52d23d-fa00-4b42-a84a-4440abc1d892",
   "metadata": {},
   "outputs": [],
   "source": []
  },
  {
   "cell_type": "markdown",
   "id": "0bd24172-b027-4f95-9d77-375e601cf010",
   "metadata": {},
   "source": [
    "## Anatomy of a `matplotlib` plot\n",
    "\n",
    "### Three Main Objects:\n",
    "\n",
    "- `Figure`: Wall of an art gallery\n",
    "- `Axes`: A place to put data (where in a figure we can plot data)\n",
    "- `Plot`: A command or method that renders data into some axes.\n",
    "\n",
    "Generally, `matplotlib` and (all other libraries) assume plot command is going into the most recently created Figure. If there is not a figure already, these commands will make one, including aaxes, and then render the results of the plotting command into these objects.\n"
   ]
  },
  {
   "cell_type": "code",
   "execution_count": null,
   "id": "84516e97-025f-4445-9759-c211f848a75a",
   "metadata": {
    "tags": []
   },
   "outputs": [],
   "source": [
    "# Let's get some data for plotting (sin and cos):\n",
    "x = np.linspace(-5, 5, 300)\n",
    "#Generate sine wave\n",
    "ysin = np.sin(x)\n",
    "#lets do cosine as well:\n",
    "ycos = np.cos(x)"
   ]
  },
  {
   "cell_type": "code",
   "execution_count": null,
   "id": "f6b2a1d3-0a89-4461-9157-451947bc5d31",
   "metadata": {
    "tags": []
   },
   "outputs": [],
   "source": [
    "# Plot sine wave\n",
    "plt.plot(x,ysin)\n",
    "# Plot cosine wave\n",
    "plt.plot(x,ycos) #issues into the same plot, would need to separate into diff figures later"
   ]
  },
  {
   "cell_type": "code",
   "execution_count": null,
   "id": "9edec6e6-89ea-4555-82e5-a0f172fad414",
   "metadata": {
    "tags": []
   },
   "outputs": [],
   "source": [
    "# If we create a figure, we can separate plot commands:\n",
    "fig1 = plt.figure()\n",
    "plt.plot(x,ysin)\n",
    "\n",
    "# Plot cosine wave\n",
    "fig2 = plt.figure()\n",
    "plt.plot(x,ycos)"
   ]
  },
  {
   "cell_type": "code",
   "execution_count": null,
   "id": "869d42b1-d976-4f16-b631-797211860f2d",
   "metadata": {
    "tags": []
   },
   "outputs": [],
   "source": [
    "# We use plt.scatter to get points instead of lines\n",
    "\n",
    "# Generate new x and y with fewer points for legibility\n",
    "# np.linspace(lower, upper, n): \n",
    "#     Creates n points between lower and upper, including both bounds.\n",
    "\n",
    "xscat = np.linspace(-5,5,25)\n",
    "yscat = np.sin(xscat)\n",
    "\n",
    "# Plot sine function as scatter plot\n",
    "plt.scatter(xscat,yscat)"
   ]
  },
  {
   "cell_type": "markdown",
   "id": "a8445a36-dd0e-47ba-a112-618dbb7b82d3",
   "metadata": {
    "tags": []
   },
   "source": [
    "### Specifying Colors\n",
    "\n",
    "#### Using HTML string names"
   ]
  },
  {
   "cell_type": "code",
   "execution_count": null,
   "id": "4e4b4ce0-8145-4290-9951-843537ecbfde",
   "metadata": {
    "tags": []
   },
   "outputs": [],
   "source": [
    "# sepcifying color with a string:\n",
    "y = ysin\n",
    "plt.plot(x, y, 'mediumpurple')"
   ]
  },
  {
   "cell_type": "markdown",
   "id": "4d104eaf-17ab-4270-a3c6-d5b5fb0d54ea",
   "metadata": {},
   "source": [
    "#### Using RGB(A) tuples"
   ]
  },
  {
   "cell_type": "code",
   "execution_count": null,
   "id": "f9be21c3-3442-44de-bb3d-c5747a75c656",
   "metadata": {
    "tags": []
   },
   "outputs": [],
   "source": [
    "plt.plot(x, y, color = (1, 0, 1))"
   ]
  },
  {
   "cell_type": "code",
   "execution_count": null,
   "id": "d7a461ce-123e-4bb0-8992-ecd0e4190896",
   "metadata": {
    "tags": []
   },
   "outputs": [],
   "source": [
    "# We can add a 4th value to the tuple to specify transparency (alpha)\n",
    "plt.plot(x, ysin, color = (0, 1, 0, .5))"
   ]
  },
  {
   "cell_type": "code",
   "execution_count": null,
   "id": "09c36b8b-ce28-47da-90dd-fa1629204ea7",
   "metadata": {
    "tags": []
   },
   "outputs": [],
   "source": [
    "plt.plot(x, y , color = '0')"
   ]
  },
  {
   "cell_type": "code",
   "execution_count": null,
   "id": "986ef9f2-8767-4402-ad1f-2900320ab037",
   "metadata": {
    "tags": []
   },
   "outputs": [],
   "source": [
    "# Specifying greyscale with a intensity value [0-1]:\n",
    "plt.plot(x, y, color='0.25')"
   ]
  },
  {
   "cell_type": "code",
   "execution_count": null,
   "id": "a662f0f0-d4e1-4e64-b7ce-c1287dfa214b",
   "metadata": {
    "tags": []
   },
   "outputs": [],
   "source": [
    "#Use linestyle argument\n",
    "plt.plot(x, y, linestyle='dashed')"
   ]
  },
  {
   "cell_type": "code",
   "execution_count": null,
   "id": "84cbc9ea-b47f-4385-b298-00e50d817734",
   "metadata": {
    "tags": []
   },
   "outputs": [],
   "source": [
    "# Initialize empty figure\n",
    "fig1 = plt.figure()\n",
    "# Plot sine wave with different colors + linestyles\n",
    "plt.plot(x, np.sin(x - 0), color='darkblue', linestyle='-')\n",
    "plt.plot(x, np.sin(x - 1), color='m', linestyle='dashed')\n",
    "plt.plot(x, np.sin(x - 2), color=(0.0,0.8,0.81), linestyle=':') \n",
    "plt.plot(x, np.sin(x - 3), color='0.65', linestyle='solid')\n",
    "plt.plot(x, np.sin(x - 4), color='#B8D62E', linestyle='-.')"
   ]
  },
  {
   "cell_type": "markdown",
   "id": "77b27952-e07f-4824-ba57-8ac537514b96",
   "metadata": {},
   "source": [
    "#### Marker Styles"
   ]
  },
  {
   "cell_type": "code",
   "execution_count": null,
   "id": "e1b26df8-c42a-445a-8c5c-60438f40d849",
   "metadata": {
    "tags": []
   },
   "outputs": [],
   "source": [
    "# Initialize empty figure\n",
    "fig1 = plt.figure()\n",
    "# Plot sine wave as scatter plot with different colors + markers\n",
    "plt.scatter(xscat, yscat-0, color='darkblue', marker='o')\n",
    "plt.scatter(xscat, yscat-1, color='m', marker='.')\n",
    "plt.scatter(xscat, yscat-2, color=(0.0,0.8,0.81), marker='+')\n",
    "plt.scatter(xscat, yscat-3, color='0.65', marker='*')\n",
    "plt.scatter(xscat, yscat-4, color='#B8D62E', marker='s')"
   ]
  },
  {
   "cell_type": "code",
   "execution_count": null,
   "id": "2a9e8725-2640-4964-977f-32364d95d72f",
   "metadata": {
    "tags": []
   },
   "outputs": [],
   "source": [
    "# Initialize empty figure\n",
    "fig1 = plt.figure()\n",
    "# Plot sine wave with different colors + markers\n",
    "plt.plot(xscat, np.sin(xscat - 0), color='darkblue', marker='o')\n",
    "plt.plot(xscat, np.sin(xscat - 1), color='m', marker='.')\n",
    "plt.plot(xscat, np.sin(xscat - 2), color=(0.0,0.8,0.81), marker='+')\n",
    "plt.plot(xscat, np.sin(xscat - 3), color='0.65', marker='*')\n",
    "plt.plot(xscat, np.sin(xscat - 4), color='#B8D62E', marker='s')"
   ]
  },
  {
   "cell_type": "code",
   "execution_count": null,
   "id": "89c40b14-c3f8-4fc9-a1f3-4c48efdcfaa3",
   "metadata": {
    "tags": []
   },
   "outputs": [],
   "source": [
    "## Axes Properties\n",
    "\n",
    "#Generally we can use plt. methods to change axes properties.\n",
    "#most of these methods are self explanatory\n",
    "# Initialize empty figure\n",
    "fig1 = plt.figure()\n",
    "# Plot sine wave \n",
    "\n",
    "plt.plot(x, ysin, color='darkblue')\n",
    "#control the range of values on the axes:\n",
    "plt.xlim(-5,5)\n",
    "plt.ylim(-2,2)\n",
    "\n",
    "# Set axis ticks\n",
    "# First argument is list of where to put ticks.\n",
    "#. second argument is a list what to put there\n",
    "plt.xticks([-4,-3,-2,-1,0,1,2,3,4],['-4','','-2','','0','','2','','4'])\n",
    "plt.yticks([-1,-0.5,0,0.5,1])\n",
    "\n",
    "# Set axis labels\n",
    "plt.xlabel(r'$x$')\n",
    "plt.ylabel(r'$\\sin{(x)}$')"
   ]
  },
  {
   "cell_type": "code",
   "execution_count": null,
   "id": "11e602b3-5b22-4634-b096-df5c2b07e54e",
   "metadata": {
    "tags": []
   },
   "outputs": [],
   "source": [
    "# Initialize empty figure\n",
    "fig1 = plt.figure()\n",
    "# Plot sine wave \n",
    "plt.plot(x, ysin, color='darkblue')\n",
    "plt.plot(x, ycos, color='#B8D62E')\n",
    "\n",
    "# Set x-axis limits\n",
    "plt.xlim(-5,5)\n",
    "\n",
    "# Set axis ticks\n",
    "plt.xticks([-4,-3,-2,-1,0,1,2,3,4],['-4','','-2','','0','','2','','4'])\n",
    "plt.yticks([-1,-0.5,0,0.5,1])\n",
    "\n",
    "# Set axis labels\n",
    "plt.xlabel(r'$x$')\n",
    "plt.ylabel(r'$y$')\n",
    "\n",
    "# Set title\n",
    "plt.title('Sinusoidal functions')\n",
    "\n",
    "# Legend\n",
    "plt.legend(labels=['sin(x)','cos(x)'])"
   ]
  },
  {
   "cell_type": "code",
   "execution_count": null,
   "id": "390a058f-43fc-4e73-8eaf-d62bb45d757c",
   "metadata": {
    "tags": []
   },
   "outputs": [],
   "source": [
    "# Initialize empty figure\n",
    "fig1 = plt.figure()\n",
    "# Plot sine wave \n",
    "plt.plot(x, ysin, label='sin(x)', color='darkblue')\n",
    "plt.plot(x, ycos, label='cos(x)', color='#B8D62E')\n",
    "\n",
    "# Set x-axis limits\n",
    "plt.xlim(-5,5)\n",
    "\n",
    "# Set axis ticks\n",
    "plt.xticks([-4,-3,-2,-1,0,1,2,3,4],['-4','','-2','','0','','2','','4'])\n",
    "plt.yticks([-1,-0.5,0,0.5,1])\n",
    "\n",
    "# Set axis labels\n",
    "plt.xlabel(r'$x$')\n",
    "plt.ylabel(r'$y$')\n",
    "\n",
    "# Set title\n",
    "plt.title('Sinusoidal functions')\n",
    "\n",
    "# Legend\n",
    "plt.legend()"
   ]
  },
  {
   "cell_type": "code",
   "execution_count": null,
   "id": "12450aa6-45fb-404e-b7fe-d40aa44b7313",
   "metadata": {
    "tags": []
   },
   "outputs": [],
   "source": [
    "# Adding subplot using the subplot method:\n",
    "\n",
    "#Initialize empty figure\n",
    "fig = plt.figure()\n",
    "# Add four axes\n",
    "ax1 = fig.add_subplot(2,2,1)\n",
    "#ax2 = fig.add_subplot(2,2,2)\n",
    "#ax3 = fig.add_subplot(2,2,3)\n",
    "ax4 = fig.add_subplot(2,2,4)"
   ]
  }
 ],
 "metadata": {
  "kernelspec": {
   "display_name": "Python 3.10.0",
   "language": "python",
   "name": "python3.10.0"
  },
  "language_info": {
   "codemirror_mode": {
    "name": "ipython",
    "version": 3
   },
   "file_extension": ".py",
   "mimetype": "text/x-python",
   "name": "python",
   "nbconvert_exporter": "python",
   "pygments_lexer": "ipython3",
   "version": "3.10.0"
  }
 },
 "nbformat": 4,
 "nbformat_minor": 5
}
