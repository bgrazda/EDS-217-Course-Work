{
 "cells": [
  {
   "cell_type": "markdown",
   "id": "95563b9f-82e3-4429-8a64-5bc8fc28131a",
   "metadata": {},
   "source": [
    "# Day 3: Session A - [Control Flows]\n",
    "\n",
    "[https://eds-217-essential-python.github.io/course-materials/live-coding/3a_control_flows.html]\n",
    "\n",
    "Date: [09/05/24]"
   ]
  },
  {
   "cell_type": "markdown",
   "id": "67d6f6d9-107b-4b3d-9bcd-b76edd4b916c",
   "metadata": {
    "tags": []
   },
   "source": [
    "### Introduction to Control Flows\n",
    "\n",
    "Main types are conditionals (change based on a value) or loops (repeat based on a value)"
   ]
  },
  {
   "cell_type": "markdown",
   "id": "1cf533d9-70ed-4f6a-be8e-a1dfcf5ffd86",
   "metadata": {
    "tags": []
   },
   "source": [
    "### Conditionals\n",
    "\n",
    "#### Basic If statement\n",
    "```python\n",
    "# must start with a `:` \n",
    "if x = 10:\n",
    "    #must be indented\n",
    "    print(x) \n",
    "    \n",
    "print(\"finished\")\n",
    "```"
   ]
  },
  {
   "cell_type": "code",
   "execution_count": null,
   "id": "ec78910e-3b22-4e35-a6ea-5329b45bfcb0",
   "metadata": {
    "tags": []
   },
   "outputs": [],
   "source": [
    "number = 5\n",
    "if number > 0:\n",
    "    print(\"positive number\")"
   ]
  },
  {
   "cell_type": "code",
   "execution_count": null,
   "id": "610c39d6-8771-4365-a32a-dc043d0472ce",
   "metadata": {
    "tags": []
   },
   "outputs": [],
   "source": [
    "#The if statement uses Boolean `True` or `False` to determine code execution \n",
    "if True:\n",
    "    print(\"positive number\")\n",
    "    \n",
    "if False:\n",
    "    print(\"Another positive number\")"
   ]
  },
  {
   "cell_type": "markdown",
   "id": "a6f3a666-6b5f-484f-86c3-2e66897f2b98",
   "metadata": {},
   "source": [
    "#### Adding Else"
   ]
  },
  {
   "cell_type": "code",
   "execution_count": null,
   "id": "d4122063-c29f-4cee-8b26-27060f0e1ab2",
   "metadata": {
    "tags": []
   },
   "outputs": [],
   "source": [
    "number = 5\n",
    "if number > 0:\n",
    "    print(\"positive number\")\n",
    "else:\n",
    "    print(\"Not a positive number\")"
   ]
  },
  {
   "cell_type": "markdown",
   "id": "f5415d90-d1ea-4d20-9d8b-0fd5748725f6",
   "metadata": {
    "tags": []
   },
   "source": [
    "#### Using Elif"
   ]
  },
  {
   "cell_type": "code",
   "execution_count": null,
   "id": "e3f0789a-836a-473f-97c6-287461fdd076",
   "metadata": {
    "tags": []
   },
   "outputs": [],
   "source": [
    "number = 5\n",
    "if number >0:\n",
    "    print(\"Positive number\")\n",
    "elif number <0:\n",
    "    print(\"Negative number\")\n",
    "else:\n",
    "    print(\"zero\")"
   ]
  },
  {
   "cell_type": "markdown",
   "id": "29636d80-1af3-4042-a7e3-fb712813d933",
   "metadata": {
    "tags": []
   },
   "source": [
    " Use `pass` to avoid code block execution (as a placeholder)"
   ]
  },
  {
   "cell_type": "code",
   "execution_count": null,
   "id": "1a79acb8-6d70-40a3-ba65-2a575c3f609a",
   "metadata": {
    "tags": []
   },
   "outputs": [],
   "source": [
    "grade = 80\n",
    "grade > 60 and grade < 90"
   ]
  },
  {
   "cell_type": "code",
   "execution_count": null,
   "id": "111e6896-e456-4d88-a20d-c6103ca3de9f",
   "metadata": {
    "tags": []
   },
   "outputs": [],
   "source": [
    "grade = 70\n",
    "if grade >= 90:\n",
    "    print(\"You're doing great\")\n",
    "elif grade < 90 and grade >= 80:\n",
    "    print(\"Okay!\")\n",
    "elif grade < 80 and grade >= 70:\n",
    "    print(\"Sure, I guess.\")\n",
    "else:\n",
    "    print(\"Uh-oh...\")"
   ]
  },
  {
   "cell_type": "markdown",
   "id": "ae086335-d544-491c-9463-b412dab2aa3a",
   "metadata": {
    "tags": []
   },
   "source": [
    " ### Loops"
   ]
  },
  {
   "cell_type": "markdown",
   "id": "cd18a873-c269-4453-855a-1342389d871d",
   "metadata": {},
   "source": [
    "Loops allow similar things to happen repeatedley to groups of things"
   ]
  },
  {
   "cell_type": "markdown",
   "id": "dd000035-784b-4d55-9ca5-67134a2b4afe",
   "metadata": {
    "tags": []
   },
   "source": [
    " #### For Loops\n"
   ]
  },
  {
   "cell_type": "code",
   "execution_count": null,
   "id": "853298f6-e311-41de-bb6f-25ca457d3adf",
   "metadata": {
    "tags": []
   },
   "outputs": [],
   "source": [
    "fruits = ['apple', 'banana', 'peach']\n",
    "for fruit in fruits:\n",
    "    print(fruit)"
   ]
  },
  {
   "cell_type": "markdown",
   "id": "539881a6-579d-4077-bddd-da8a33ebdf1a",
   "metadata": {
    "tags": []
   },
   "source": [
    " #### While Loops\n",
    "Evaluate as long as condition is true."
   ]
  },
  {
   "cell_type": "code",
   "execution_count": null,
   "id": "810895e8-51b7-4471-a22c-f8d202392114",
   "metadata": {
    "tags": []
   },
   "outputs": [],
   "source": [
    "count = 5\n",
    "while count > 0: \n",
    "    print(count)\n",
    "    count -= 1"
   ]
  },
  {
   "cell_type": "markdown",
   "id": "89c94e5c-98fc-468e-ba61-76a2cb098fe8",
   "metadata": {
    "tags": []
   },
   "source": [
    " ### Applying Control Flows in Data Science\n"
   ]
  },
  {
   "cell_type": "code",
   "execution_count": null,
   "id": "79b72875-a0b0-44b3-9185-0847465e310e",
   "metadata": {
    "tags": []
   },
   "outputs": [],
   "source": [
    "import pandas as pd\n",
    "data = pd.DataFrame({\n",
    "        'Temperature': [18, 21, 24, 19, 17],\n",
    "        'Weather': ['rainy', 'sunny', 'sunny', 'cloudy', 'rainy']\n",
    "    })\n",
    "\n",
    "for temp in data['Temperature']:\n",
    "    print(temp)\n",
    "    \n",
    "data['Temperature'] > 20\n",
    "\n",
    "sunny_days = data[data['Weather'] == 'sunny']\n",
    "print(sunny_days)\n",
    "\n",
    "#make a selection of rows (T/F) based on testing each value of Weather\n",
    "list_of_true_false = data['Weather'] == 'cloudy'\n",
    "\n",
    "#Use that list of selection rows (T/Fs) to get a subset of data\n",
    "data[list_of_true_false]"
   ]
  },
  {
   "cell_type": "markdown",
   "id": "1919d07c-f81f-4135-a3b5-db2ccda77df5",
   "metadata": {
    "tags": []
   },
   "source": [
    " ### Conclusion"
   ]
  },
  {
   "cell_type": "code",
   "execution_count": null,
   "id": "762b6622-c394-439a-b1cb-7c3301974853",
   "metadata": {},
   "outputs": [],
   "source": []
  }
 ],
 "metadata": {
  "kernelspec": {
   "display_name": "Python 3.10.0",
   "language": "python",
   "name": "python3.10.0"
  },
  "language_info": {
   "codemirror_mode": {
    "name": "ipython",
    "version": 3
   },
   "file_extension": ".py",
   "mimetype": "text/x-python",
   "name": "python",
   "nbconvert_exporter": "python",
   "pygments_lexer": "ipython3",
   "version": "3.10.0"
  }
 },
 "nbformat": 4,
 "nbformat_minor": 5
}
