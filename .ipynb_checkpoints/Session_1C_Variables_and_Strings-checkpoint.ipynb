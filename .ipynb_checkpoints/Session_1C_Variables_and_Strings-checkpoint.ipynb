{
 "cells": [
  {
   "cell_type": "markdown",
   "id": "402be99e-93c6-4355-91c3-8adbd1184b5a",
   "metadata": {},
   "source": [
    "# Day 1: Session C - Variables & Strings\n",
    "\n",
    "[Session Webpage](https://eds-217-essential-python.github.io/course-materials/interactive-sessions/1c_variables_strings.html)\n",
    "\n",
    "Date: 09/03/2024"
   ]
  },
  {
   "cell_type": "markdown",
   "id": "383def9e-3993-4e44-a515-d6feaddd550e",
   "metadata": {},
   "source": [
    "## Variable Types\n",
    "\n",
    "_everything is an object_"
   ]
  },
  {
   "cell_type": "code",
   "execution_count": null,
   "id": "2948dc9a-3cfd-4dad-ab29-e9f05836f1fc",
   "metadata": {
    "tags": []
   },
   "outputs": [],
   "source": [
    "number = 42\n",
    "text = \"Hello, World!\"\n",
    "pi = 3.14159\n",
    "data = [1, 2, 3, 4, 5]"
   ]
  },
  {
   "cell_type": "markdown",
   "id": "fb2d64ab-74dd-44e9-8fdd-2ec6053c5c1e",
   "metadata": {},
   "source": [
    "Most common built-in types:\n",
    "\n",
    "- `int`: Integers\n",
    "- `float`: Floating point numbers(e.g. 2.34)\n",
    "- `str` : strings (characters, text, etc.)\n",
    "- `list`: A collection of things."
   ]
  },
  {
   "cell_type": "code",
   "execution_count": null,
   "id": "3bb2dd34-b678-4960-9c89-ff8326c473db",
   "metadata": {
    "tags": []
   },
   "outputs": [],
   "source": [
    "print(type(number))\n",
    "print(type(text))\n",
    "print(type(pi))\n",
    "print(type(data))"
   ]
  },
  {
   "cell_type": "markdown",
   "id": "636bfca6-fd0c-4872-b5d3-ffa435c94da3",
   "metadata": {},
   "source": [
    "## Exploring Methods\n",
    "\n",
    "### Discovering Methods"
   ]
  },
  {
   "cell_type": "code",
   "execution_count": null,
   "id": "2fbb3f02-a5aa-4259-a6bb-2dbea931cdca",
   "metadata": {
    "tags": []
   },
   "outputs": [],
   "source": [
    "list_of_methods = dir(text)\n",
    "print(list_of_methods)"
   ]
  },
  {
   "cell_type": "code",
   "execution_count": null,
   "id": "21b48722-1a48-4a70-ab80-ded0fcf86628",
   "metadata": {
    "tags": []
   },
   "outputs": [],
   "source": [
    "text = \"       not all Upper case     \"\n",
    "\n",
    "#convert to upper case\n",
    "print(text.upper())\n",
    "\n",
    "#convert to lower\n",
    "print(text.lower())\n",
    "\n",
    "# replace a substring: \n",
    "print(text.replace(\"Upper\", \"Lower\"))\n",
    "\n",
    "# remove trailing and leading whitespace, including tabs and new lines\n",
    "print(text.strip())"
   ]
  },
  {
   "cell_type": "markdown",
   "id": "cebe69b5-9418-4ff3-a853-b754e5ca88d5",
   "metadata": {},
   "source": [
    "## Combining methods\n",
    "\n",
    "We can combine methods. Most functions return an instance of an object, so we can use that to run another command. This is called **method chaining**.\n",
    "\n",
    "An example would be string normalization, where we want to: \n",
    "1. remove trailing/leading whitespace\n",
    "2. make everything lower case \n",
    "3. replace whitespace with `_`.\n",
    "\n",
    "#### The hard way:"
   ]
  },
  {
   "cell_type": "code",
   "execution_count": null,
   "id": "d4f6fb42-af26-4fd8-9fa7-a90adcbf4499",
   "metadata": {
    "tags": []
   },
   "outputs": [],
   "source": [
    "#step 1: remove trailing white space\n",
    "column_bad = '    Air Temperature'\n",
    "column_better = column_bad.strip()\n",
    "\n",
    "# step 2: make everything lower case:\n",
    "column_even_better = column_better.lower()\n",
    "\n",
    "#step 3: replace white space\n",
    "column_best = column_even_better.replace(\" \", \"_\")\n",
    "print(column_best)"
   ]
  },
  {
   "cell_type": "markdown",
   "id": "8603455c-b547-4610-a6ae-1d482255ce3c",
   "metadata": {},
   "source": [
    "#### The Pythonic Way:"
   ]
  },
  {
   "cell_type": "code",
   "execution_count": null,
   "id": "35eac193-7162-4210-bf06-ce8fcea88b62",
   "metadata": {
    "tags": []
   },
   "outputs": [],
   "source": [
    "print(column_bad.strip().lower().replace(\" \", \"_\"))"
   ]
  },
  {
   "cell_type": "markdown",
   "id": "5eb37e65-a156-415e-9408-b393a6d721fe",
   "metadata": {},
   "source": [
    "### A more complicated example. \n",
    "\n",
    "Looping through a list of strings and normalizing each one!\n",
    "\n",
    "0. Make a list of strings\n",
    "1. Make a for loop to loop through the strings\n",
    "2. Normalize each string\n",
    "3. Print out the normalized string."
   ]
  },
  {
   "cell_type": "code",
   "execution_count": null,
   "id": "99d5591e-3d7e-47a9-8bef-7baa64abfbea",
   "metadata": {
    "tags": []
   },
   "outputs": [],
   "source": [
    "strings_to_normalize = [\n",
    "    \"data science\",\n",
    "    \"  MACHINE learning \",\n",
    "    \"Artificial Intelligence\\t\",\n",
    "    \" Natural\\nLanguage Processing \"\n",
    "]\n",
    "\n",
    "print(\"Your Normalized Strings:\")\n",
    "print(\"========================\")\n",
    "\n",
    "#Step 1: \n",
    "for string in strings_to_normalize:\n",
    "    # Our normalization code here\n",
    "    normalized = string.strip().lower().replace(\"\\n\", \" \").replace(\" \", \"_\")  # Replace this line with your normalization steps! \n",
    "    \n",
    "    print(f\"Original: '{string}'\")\n",
    "    print(f\"Normalized: '{normalized}'\")\n",
    "    print()"
   ]
  },
  {
   "cell_type": "code",
   "execution_count": null,
   "id": "60fff8cc-ee08-4f55-8c8f-bd055e8fece8",
   "metadata": {
    "tags": []
   },
   "outputs": [],
   "source": [
    "import this"
   ]
  }
 ],
 "metadata": {
  "kernelspec": {
   "display_name": "Python 3.10.0",
   "language": "python",
   "name": "python3.10.0"
  },
  "language_info": {
   "codemirror_mode": {
    "name": "ipython",
    "version": 3
   },
   "file_extension": ".py",
   "mimetype": "text/x-python",
   "name": "python",
   "nbconvert_exporter": "python",
   "pygments_lexer": "ipython3",
   "version": "3.10.0"
  }
 },
 "nbformat": 4,
 "nbformat_minor": 5
}
