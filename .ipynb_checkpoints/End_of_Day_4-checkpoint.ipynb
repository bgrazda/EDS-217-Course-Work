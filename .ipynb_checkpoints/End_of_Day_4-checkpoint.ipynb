{
 "cells": [
  {
   "cell_type": "code",
   "execution_count": null,
   "id": "e1433380-7776-474e-aeb8-84be14aa3e8f",
   "metadata": {
    "tags": []
   },
   "outputs": [],
   "source": [
    "import pandas as pd\n",
    "import numpy as np\n",
    "import matplotlib.pyplot as plt\n",
    "\n",
    "url = 'https://ucsb.box.com/shared/static/dnnu59jsnkymup6o8aaovdywrtxiy3a9.csv'\n",
    "marine_df = pd.read_csv(url)"
   ]
  },
  {
   "cell_type": "code",
   "execution_count": null,
   "id": "c5e46a26-5cf3-43f3-9eaa-5d83bff0067f",
   "metadata": {
    "tags": []
   },
   "outputs": [],
   "source": [
    "marine_df.describe()"
   ]
  },
  {
   "cell_type": "code",
   "execution_count": null,
   "id": "d94e5b03-968e-401c-8890-9059e89ee8dd",
   "metadata": {
    "tags": []
   },
   "outputs": [],
   "source": [
    "#Check the data types of each column and identify if there are any missing values\n",
    "marine_df.dtypes\n",
    "\n",
    "marine_df.isnull().sum()"
   ]
  },
  {
   "cell_type": "code",
   "execution_count": null,
   "id": "9e09e635-8a9e-4a0d-99d4-0bba35803e9c",
   "metadata": {
    "tags": []
   },
   "outputs": [],
   "source": [
    "#Remove any records that are missing a value in the Oceans\n",
    "marine_df = marine_df.dropna(subset = 'Oceans')"
   ]
  },
  {
   "cell_type": "code",
   "execution_count": null,
   "id": "7b443a6f-8876-4a22-960a-dde3cc8566fc",
   "metadata": {
    "tags": []
   },
   "outputs": [],
   "source": [
    "oceans = marine_df.groupby('Oceans')\n",
    "\n",
    "new_oceans = oceans['Measurement'].count()\n",
    "\n",
    "print(new_oceans)"
   ]
  },
  {
   "cell_type": "code",
   "execution_count": null,
   "id": "addf1829-f735-4cbc-adb2-bf42d22e002a",
   "metadata": {
    "tags": []
   },
   "outputs": [],
   "source": [
    "#Determine the average value of Measurement taken from each Ocean.\n",
    "\n",
    "average_oceans = oceans['Measurement'].mean()\n",
    "print(average_oceans)"
   ]
  },
  {
   "cell_type": "code",
   "execution_count": null,
   "id": "15df0f24-d462-4f80-ad80-a8d30941a843",
   "metadata": {
    "tags": []
   },
   "outputs": [],
   "source": [
    "df2 = marine_df[marine_df['Unit'] == 'pieces/m3']\n",
    "print(df2.head())"
   ]
  },
  {
   "cell_type": "code",
   "execution_count": null,
   "id": "bf54acec-4196-4f1f-98c8-0f3709e2900e",
   "metadata": {
    "tags": []
   },
   "outputs": [],
   "source": [
    "# Use the groupby and the max() command to determine the Maximum value of pieces/m3 measured for each Ocean\n",
    "\n",
    "df2.groupby('Oceans')['Measurement'].max().sort_values(ascending=False).head(1).index\n",
    "df2['Latitude'].plot.hist()\n",
    "#print(df2)"
   ]
  },
  {
   "cell_type": "code",
   "execution_count": null,
   "id": "a7b53c49-394b-4101-a46b-28b81e505afa",
   "metadata": {
    "tags": []
   },
   "outputs": [],
   "source": [
    "#Make a new dataframe (df3) from your filtered dataframe (df2) that contains only rows where Measurement is greater than zero.\n",
    "df3 = df2[df2['Measurement'] > 0]\n",
    "print(df3.head())"
   ]
  },
  {
   "cell_type": "code",
   "execution_count": null,
   "id": "b29b6076-dc0b-4df8-8e6b-4409780a426b",
   "metadata": {},
   "outputs": [],
   "source": [
    "#Create a new column in df3 that contains the log10 of Measurements.\n",
    "df3_copy = df3.copy()\n",
    "df3_copy['log10_measurements'] = np.log10(df3_copy['Measurement'])\n",
    "df3_copy.info()"
   ]
  },
  {
   "cell_type": "code",
   "execution_count": null,
   "id": "402974f2-e5a6-464a-8374-e6725f3b15d7",
   "metadata": {
    "tags": []
   },
   "outputs": [],
   "source": [
    "# Make a histogram of the log-transformed values in df3\n",
    "df3_copy['log10_measurements'].plot.hist()\n",
    "plt.title(\"Log10 Measurements\")"
   ]
  }
 ],
 "metadata": {
  "kernelspec": {
   "display_name": "Python 3.10.0",
   "language": "python",
   "name": "python3.10.0"
  },
  "language_info": {
   "codemirror_mode": {
    "name": "ipython",
    "version": 3
   },
   "file_extension": ".py",
   "mimetype": "text/x-python",
   "name": "python",
   "nbconvert_exporter": "python",
   "pygments_lexer": "ipython3",
   "version": "3.10.0"
  }
 },
 "nbformat": 4,
 "nbformat_minor": 5
}
