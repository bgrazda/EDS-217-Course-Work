{
 "cells": [
  {
   "cell_type": "markdown",
   "id": "c39bedc0-28f5-49eb-b0a4-dafd10bdfd41",
   "metadata": {},
   "source": [
    "# Basic Pandas Selecting and Filtering\n",
    "[link to session 5A](https://eds-217-essential-python.github.io/course-materials/live-coding/5a_selecting_and_filtering.html)\n",
    "\n",
    "[09/09/24]"
   ]
  },
  {
   "cell_type": "markdown",
   "id": "93377f63-65e2-4b43-bbb8-be0da6feb46c",
   "metadata": {},
   "source": [
    "# Introduction to Pandas Selection and Filtering"
   ]
  },
  {
   "cell_type": "markdown",
   "id": "14e693e9-b0c9-4453-bdbf-299f4608c43e",
   "metadata": {},
   "source": [
    "## 1. Setup"
   ]
  },
  {
   "cell_type": "code",
   "execution_count": null,
   "id": "abdb5d36-abfe-4603-820c-ebde812239c9",
   "metadata": {
    "tags": []
   },
   "outputs": [],
   "source": [
    "import pandas as pd \n",
    "\n",
    "#Load our dataset\n",
    "url = 'https://bit.ly/eds217-studentdata'\n",
    "df = pd.read_csv(url)\n",
    "\n",
    "df.head()"
   ]
  },
  {
   "cell_type": "markdown",
   "id": "a99d4948-66cb-40d1-9209-8ed88763befe",
   "metadata": {},
   "source": [
    "## 2. Basic Selection\n"
   ]
  },
  {
   "cell_type": "code",
   "execution_count": null,
   "id": "ca986bc9-55d6-48b9-b025-f18adb821233",
   "metadata": {
    "tags": []
   },
   "outputs": [],
   "source": [
    "# Selecting a single column from a dataframe adn assign it to a series:\n",
    "majors = df['major']\n",
    "type(majors)\n",
    "\n",
    "#selecting a single column from a data frame and assign it to a list\n",
    "major_list = list(df['major']) \n",
    "type(major_list)\n",
    "\n",
    "\n",
    "#use df[['major']] to create a data frame of a single element\n",
    "\n",
    "\n",
    "#selecting multiple columns from a dataframe and assign it to a new dataframe\n",
    "#provide a list of columns into the selector/filter brackets:\n",
    "id_major = df[['student_id','major']]\n",
    "type(id_major)"
   ]
  },
  {
   "cell_type": "markdown",
   "id": "18beff38-361b-4709-9255-15f505f7a442",
   "metadata": {},
   "source": [
    "## 3. Filtering Based on Column Values"
   ]
  },
  {
   "cell_type": "markdown",
   "id": "c5d0542d-2d28-45e4-bede-ba6a5cf9ed37",
   "metadata": {},
   "source": [
    "### 3a. Single Condition Filtering"
   ]
  },
  {
   "cell_type": "code",
   "execution_count": null,
   "id": "e93a2718-fe5a-46cc-88a6-8f850c596f7c",
   "metadata": {
    "tags": []
   },
   "outputs": [],
   "source": [
    "# filtering on the value of a single condition (usually a single column's values)\n",
    "#select rows only with gpa > 3.7\n",
    "high_achievers = df[df['gpa'] > 3.7]\n",
    "type(high_achievers) # creates a data frame with filtered gpa's "
   ]
  },
  {
   "cell_type": "markdown",
   "id": "00403283-2559-4011-9505-3da242c60929",
   "metadata": {},
   "source": [
    "### 3b. Multiple Conditions with Logical Operators\n"
   ]
  },
  {
   "cell_type": "code",
   "execution_count": null,
   "id": "c95bfb99-b381-4bd3-a1aa-3452866f02c4",
   "metadata": {
    "tags": []
   },
   "outputs": [],
   "source": [
    "# filtering on the values of multiple conditions (usually multiple columns, but not always)\n",
    "#find students less than 20 years old majoring in Mathematics\n",
    "young_math = df[ (df['age'] < 20) & (df['major'] == 'Mathematics')] #REMEMBER PARENTHESES\n",
    "type(young_math)\n",
    "\n",
    "\n",
    "# find students who are either 22 years old or have a GPA of 3.5\n",
    "specified = df[ (df['age'] == 22) | (df['gpa'] == 3.5)]\n",
    "specified.head()"
   ]
  },
  {
   "cell_type": "markdown",
   "id": "c2bfab64-e8d4-48b0-9754-7499a42a9fab",
   "metadata": {},
   "source": [
    "### 3c. Using the filter _command_\n",
    "\n",
    "Use the filter command to match specific columns or rows based on labels (column names or index labels)\n",
    "\n",
    "Use the `like` argument to filter/select substrings (especially useful for large dataframes with many columns)"
   ]
  },
  {
   "cell_type": "code",
   "execution_count": null,
   "id": "c7a4ab7c-a590-4c7a-a784-8c9852e237f0",
   "metadata": {
    "tags": []
   },
   "outputs": [],
   "source": [
    "#filter all the COLUMNS that contain the substring `id`:\n",
    "id_columns = df.filter(like = 'id', axis = 1)          #default is axis = 1, do not need to include \n",
    "\n",
    "#Filter all the ROWS where the index contains a `5`:\n",
    "rows_with_5 = df.filter(like = '5', axis = 0)          # axis = 0, working on rows\n",
    "rows_with_5.head()"
   ]
  },
  {
   "cell_type": "markdown",
   "id": "9a6d2884-2ad2-4e75-9be7-16d7b159c5e5",
   "metadata": {},
   "source": [
    "The `filter()`command also can take a `regex` argument\n",
    "\n"
   ]
  },
  {
   "cell_type": "code",
   "execution_count": null,
   "id": "6fb5d44a-80e4-4f04-92d8-ecda539859e1",
   "metadata": {
    "tags": []
   },
   "outputs": [],
   "source": [
    "# Filter column names using a `regex` instead of `like`\n",
    "#Find all the columns that end in the letter `e`\n",
    "\n",
    "end_with_e = df.filter(regex = 'e$')\n",
    "print(end_with_e.head())  #only returns age column "
   ]
  },
  {
   "cell_type": "markdown",
   "id": "494473b6-d317-4e8c-93f0-4fe2f73378f6",
   "metadata": {},
   "source": [
    "RegexLearn:\n",
    "    https://regexlearn.com/learn/regex101"
   ]
  },
  {
   "cell_type": "markdown",
   "id": "742f3a9d-b4ff-4f8f-bfcb-41ef08f35737",
   "metadata": {},
   "source": [
    "## 4. Combining Selection and Filtering\n",
    "\n",
    "Use method chaining to append a selection to the results of a filter before assigning it to a new variable"
   ]
  },
  {
   "cell_type": "code",
   "execution_count": null,
   "id": "a6b2f94b-0794-4673-a276-35c6b198fcf2",
   "metadata": {},
   "outputs": [],
   "source": [
    "#Get a list of majors for students under 21:\n",
    "\n",
    "young_majors = df[(df['age'] < 21)]['major']  #method chaining, selecting the values and then column to return a Series\n",
    "print(young_majors.head())\n",
    "\n",
    "young_majors_df = df[(df['age'] < 21)].filter(like = 'major') #method chaining, returns a dataframe\n",
    "print(young_majors_df.head())\n",
    "\n",
    "young_majors_list = df[(df['age'] < 21)]['major'].to_list()  #changes it to a list, formatting to view is different"
   ]
  },
  {
   "cell_type": "markdown",
   "id": "2deac490-e725-4927-bac7-64fe39888f0b",
   "metadata": {},
   "source": [
    "## 5. Using .isin() for Multiple Values"
   ]
  },
  {
   "cell_type": "code",
   "execution_count": null,
   "id": "844576ec-5dbb-475b-93ea-3b8f3a6051d9",
   "metadata": {},
   "outputs": [],
   "source": [
    "[Empty Code Cell]"
   ]
  },
  {
   "cell_type": "markdown",
   "id": "6f1aced9-6ea4-436e-b96e-501c5d2d9c56",
   "metadata": {},
   "source": [
    "## 6. Filtering with String Methods"
   ]
  },
  {
   "cell_type": "code",
   "execution_count": null,
   "id": "a1c0577d-a78c-4d7e-93e0-d69c7824a7d8",
   "metadata": {},
   "outputs": [],
   "source": [
    "[Empty Code Cell]"
   ]
  },
  {
   "cell_type": "markdown",
   "id": "7017df64-2e51-4d69-85b4-0caaf1a072d3",
   "metadata": {},
   "source": [
    "## 7. Advanced Selection: .loc vs .iloc"
   ]
  },
  {
   "cell_type": "code",
   "execution_count": null,
   "id": "1151f8de-0064-402c-b0c2-bfbb9af9fb54",
   "metadata": {},
   "outputs": [],
   "source": [
    "[Empty Code Cell]"
   ]
  },
  {
   "cell_type": "markdown",
   "id": "530cf871-ddea-42b2-bbf9-201245ea13ad",
   "metadata": {},
   "source": [
    "## Conclusion"
   ]
  }
 ],
 "metadata": {
  "kernelspec": {
   "display_name": "Python 3.10.0",
   "language": "python",
   "name": "python3.10.0"
  },
  "language_info": {
   "codemirror_mode": {
    "name": "ipython",
    "version": 3
   },
   "file_extension": ".py",
   "mimetype": "text/x-python",
   "name": "python",
   "nbconvert_exporter": "python",
   "pygments_lexer": "ipython3",
   "version": "3.10.0"
  }
 },
 "nbformat": 4,
 "nbformat_minor": 5
}
