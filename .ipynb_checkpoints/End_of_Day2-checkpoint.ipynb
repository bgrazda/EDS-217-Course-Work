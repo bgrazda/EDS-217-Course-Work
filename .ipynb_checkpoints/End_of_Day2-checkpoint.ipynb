{
 "cells": [
  {
   "cell_type": "code",
   "execution_count": null,
   "id": "6589c0e0-4402-4199-a59b-901c165e29bc",
   "metadata": {
    "tags": []
   },
   "outputs": [],
   "source": [
    "import random"
   ]
  },
  {
   "cell_type": "code",
   "execution_count": null,
   "id": "61b72dbe-05c4-4f90-95e1-15c211742151",
   "metadata": {
    "tags": []
   },
   "outputs": [],
   "source": [
    "classmates = ['Liz', 'Amanda', 'Stephen', 'Matteo']"
   ]
  },
  {
   "cell_type": "code",
   "execution_count": null,
   "id": "57bfe0f8-2d2f-4c49-802e-af2c7d509079",
   "metadata": {},
   "outputs": [],
   "source": [
    "favorite_color = {\n",
    "    'Liz':'green',\n",
    "    'Amanda': 'green'\n",
    "    'Stephen': 'green',\n",
    "    'Matteo': 'green'\n",
    "}"
   ]
  }
 ],
 "metadata": {
  "kernelspec": {
   "display_name": "Python 3.10.0",
   "language": "python",
   "name": "python3.10.0"
  },
  "language_info": {
   "codemirror_mode": {
    "name": "ipython",
    "version": 3
   },
   "file_extension": ".py",
   "mimetype": "text/x-python",
   "name": "python",
   "nbconvert_exporter": "python",
   "pygments_lexer": "ipython3",
   "version": "3.10.0"
  }
 },
 "nbformat": 4,
 "nbformat_minor": 5
}
