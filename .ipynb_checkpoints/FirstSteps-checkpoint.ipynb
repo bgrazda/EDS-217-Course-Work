{
 "cells": [
  {
   "cell_type": "markdown",
   "id": "0510024c-6bec-4387-bb7a-e064e8ecbdf1",
   "metadata": {},
   "source": [
    "# My first notebook\n",
    "[link to session 1b](https://eds-217-essential-python.github.io/course-materials/interactive-sessions/1b_Jupyter_Notebooks.html)\n",
    "\n",
    "A little code block:\n",
    "```python\n",
    "# Add numbers !\n",
    "3 + 3\n",
    "```\n",
    "\n",
    "A little code block:\n",
    "```R\n",
    "# Assignment in R !\n",
    "a <- 3\n",
    "```"
   ]
  },
  {
   "cell_type": "code",
   "execution_count": null,
   "id": "a8e2fdee-60dd-4f76-8abe-c7c131b508da",
   "metadata": {
    "tags": []
   },
   "outputs": [],
   "source": [
    "3 + 5"
   ]
  },
  {
   "cell_type": "code",
   "execution_count": null,
   "id": "8b4bc484-33fe-4c17-95e7-dc52bee47e1d",
   "metadata": {
    "tags": []
   },
   "outputs": [],
   "source": [
    "# Simple Python code\n",
    "print(\"Hello, Jupyter!\")"
   ]
  },
  {
   "cell_type": "code",
   "execution_count": null,
   "id": "f1e3dd58-75e1-43b2-a8e9-2e27f28767ef",
   "metadata": {
    "tags": []
   },
   "outputs": [],
   "source": [
    "from IPython.display import Image, display\n",
    "# Display an image\n",
    "img_path = 'https://jupyterlab.readthedocs.io/en/stable/_images/interface-jupyterlab.png'\n"
   ]
  },
  {
   "cell_type": "code",
   "execution_count": null,
   "id": "7357040f-482f-4b8c-a0a9-96193a966fdf",
   "metadata": {
    "tags": []
   },
   "outputs": [],
   "source": [
    "display(Image(url=img_path, width = 700))"
   ]
  },
  {
   "cell_type": "code",
   "execution_count": null,
   "id": "a20bef0d-d963-445b-9582-574a7c4da496",
   "metadata": {},
   "outputs": [],
   "source": []
  }
 ],
 "metadata": {
  "kernelspec": {
   "display_name": "Python 3.10.0",
   "language": "python",
   "name": "python3.10.0"
  },
  "language_info": {
   "codemirror_mode": {
    "name": "ipython",
    "version": 3
   },
   "file_extension": ".py",
   "mimetype": "text/x-python",
   "name": "python",
   "nbconvert_exporter": "python",
   "pygments_lexer": "ipython3",
   "version": "3.10.0"
  }
 },
 "nbformat": 4,
 "nbformat_minor": 5
}
